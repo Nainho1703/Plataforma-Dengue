{
 "cells": [
  {
   "cell_type": "markdown",
   "id": "bf77d37f",
   "metadata": {},
   "source": [
    "Corroborar si este es mas rapido al no seleccionar días separados"
   ]
  },
  {
   "cell_type": "code",
   "execution_count": 4,
   "id": "73c20ff2",
   "metadata": {},
   "outputs": [
    {
     "name": "stdout",
     "output_type": "stream",
     "text": [
      "Iniciando descarga desde 2021-01-01 hasta 2022-12-31\n"
     ]
    }
   ],
   "source": [
    "# Obtener última fecha registrada en la tabla\n",
    "import pandas as pd\n",
    "import xarray as xr\n",
    "import sqlite3\n",
    "from pathlib import Path\n",
    "import os\n",
    "import sqlite3\n",
    "\n",
    "import cdsapi\n",
    "import zipfile\n",
    "from netCDF4 import Dataset, num2date\n",
    "\n",
    "\n",
    "def definir_star_end(DB_PATH,start_=\"\",end_=\"\"):\n",
    "\n",
    "    if start_==\"\":\n",
    "\n",
    "        conn = sqlite3.connect(DB_PATH)\n",
    "        cursor = conn.cursor()\n",
    "\n",
    "        cursor.execute(\"SELECT MAX(date) FROM climate_test\")\n",
    "        row = cursor.fetchone()\n",
    "        conn.close()\n",
    "\n",
    "        # Si hay datos, usar la fecha siguiente como inicio; si no, arrancar manualmente\n",
    "        if row and row[0]:\n",
    "            start = pd.to_datetime(row[0]) + pd.Timedelta(days=1)\n",
    "        else:\n",
    "            start = pd.Timestamp(\"2023-01-01\")  # o cualquier fecha de inicio deseada\n",
    "    else:\n",
    "        start = pd.Timestamp(start_)\n",
    "    if end_==\"\":\n",
    "    # Siempre terminar en ayer\n",
    "        end = pd.Timestamp(\"today\").normalize() - pd.Timedelta(days=1)\n",
    "    else:\n",
    "        end = pd.Timestamp(end_)       \n",
    "\n",
    "    return (start,end)\n",
    "\n",
    "# Generar fechas faltantes\n",
    "start_,end_=\"2021-01-01\",\"2022-12-31\"\n",
    "\n",
    "BASE_DIR = Path().resolve()  \n",
    "\n",
    "DB_PATH = BASE_DIR.parent / \"backend\" / \"data\" / \"mi_base_de_datos5.db\"\n",
    "\n",
    "start,end=definir_star_end(DB_PATH,start_,end_)\n",
    "\n",
    "\n",
    "dates = pd.date_range(start, end, freq=\"D\")\n",
    "periods = sorted(dates.to_series().dt.to_period(\"M\").unique())\n",
    "\n",
    "print(f\"Iniciando descarga desde {start.date()} hasta {end.date()}\")\n",
    "\n",
    "\n",
    "\n",
    "\n"
   ]
  },
  {
   "cell_type": "code",
   "execution_count": 5,
   "id": "4b8597ea",
   "metadata": {},
   "outputs": [],
   "source": [
    "\n",
    "\n",
    "TMP_DIR   = \"Clima\\\\tmp_test20d\"\n",
    "CDS_URL   = 'https://cds.climate.copernicus.eu/api'\n",
    "CDS_KEY   = 'd9af180c-f7f8-4a2e-8029-09018fb8c920'\n",
    "AREA      = [-32.0, -63.5, -33.0, -61.0]  # [Norte, Oeste, Sur, Este]\n",
    "AREA      = [-33.0, -63.25, -33.0, -63.25]  # [Norte, Oeste, Sur, Este]\n",
    "VARIABLES = ['2m_temperature','2m_dewpoint_temperature','total_precipitation']\n",
    "TMP_DIR = os.path.abspath(\"./tmp_cds\")\n",
    "os.makedirs(TMP_DIR, exist_ok=True)\n",
    "\n",
    "# ————— Prepara SQLite y tabla de prueba —————\n",
    "conn = sqlite3.connect(DB_PATH)\n",
    "cur  = conn.cursor()\n",
    "cur.execute(\"\"\"\n",
    "CREATE TABLE IF NOT EXISTS climate_test (\n",
    "    date TEXT,\n",
    "    latitude REAL,\n",
    "    longitude REAL,\n",
    "    t2m REAL,\n",
    "    d2m REAL,\n",
    "    tp REAL,\n",
    "    PRIMARY KEY(date, latitude, longitude)\n",
    ")\n",
    "\"\"\")\n",
    "conn.commit()\n",
    "\n",
    "# # ————— Calcula últimos 20 días —————\n",
    "# end   = pd.to_datetime(\"today\").normalize() - pd.Timedelta(days=1)\n",
    "# start = end - pd.Timedelta(days=19)"
   ]
  },
  {
   "cell_type": "code",
   "execution_count": 6,
   "id": "f9b8d341",
   "metadata": {},
   "outputs": [
    {
     "name": "stdout",
     "output_type": "stream",
     "text": [
      "Descargando datos de 2021-01-01 a 2022-12-31 (730 días)…\n"
     ]
    },
    {
     "name": "stderr",
     "output_type": "stream",
     "text": [
      "2025-09-25 12:01:02,351 INFO [2025-09-03T00:00:00] To improve our C3S service, we need to hear from you! Please complete this very short [survey](https://confluence.ecmwf.int/x/E7uBEQ/). Thank you.\n",
      "2025-09-25 12:01:02,352 INFO [2024-09-26T00:00:00] Watch our [Forum](https://forum.ecmwf.int/) for Announcements, news and other discussed topics.\n"
     ]
    }
   ],
   "source": [
    "\n",
    "dates = pd.date_range(start, end, freq=\"D\")\n",
    "years  = sorted({str(d.year)     for d in dates})\n",
    "months = sorted({f\"{d.month:02d}\" for d in dates})\n",
    "days   = sorted({f\"{d.day:02d}\"   for d in dates})\n",
    "\n",
    "print(f\"Descargando datos de {start.date()} a {end.date()} ({len(dates)} días)…\")\n",
    "\n",
    "# ————— Descarga del ZIP con los 3 *.nc —————\n",
    "zip_path = os.path.join(TMP_DIR, \"test20d.zip\")\n",
    "c = cdsapi.Client(url=CDS_URL, key=CDS_KEY)\n",
    "\n",
    "\n",
    "try:\n",
    "    c.retrieve(\n",
    "        'derived-era5-single-levels-daily-statistics',\n",
    "        {\n",
    "            'product_type':    'reanalysis',\n",
    "            'format':          'netcdf',       # el API nos devuelve un ZIP\n",
    "            'variable':        VARIABLES,\n",
    "            'year':            years,\n",
    "            'month':           months,\n",
    "            'day':             days,\n",
    "            'daily_statistic': 'daily_mean',\n",
    "            'frequency':       '6_hourly',\n",
    "            'time_zone':       'utc+00:00',\n",
    "            'area':            AREA,\n",
    "        },\n",
    "        zip_path\n",
    "    )\n",
    "\n",
    "    import tempfile\n",
    "\n",
    "    def ingest_from_zip(table_name, zip_filepath):\n",
    "        \"\"\"Extrae cada .nc a un NamedTemporaryFile y vuelca a SQLite.\"\"\"\n",
    "        extracted_paths = []\n",
    "\n",
    "        # 1) Abre el ZIP\n",
    "        with zipfile.ZipFile(zip_filepath, 'r') as z:\n",
    "            nc_members = [m for m in z.namelist() if m.endswith('.nc')]\n",
    "            if not nc_members:\n",
    "                raise RuntimeError(\"No encontré archivos .nc en el ZIP\")\n",
    "\n",
    "            for member in nc_members:\n",
    "                # crea un temp file garantizado escribible\n",
    "                tmpf = tempfile.NamedTemporaryFile(suffix=\".nc\", delete=False)\n",
    "                # vuelca el contenido\n",
    "                with z.open(member) as src:\n",
    "                    tmpf.write(src.read())\n",
    "                tmpf.close()\n",
    "                extracted_paths.append(tmpf.name)\n",
    "\n",
    "        # 2) Lee coordenadas y variables\n",
    "        data_arrays = {}\n",
    "        time_objs = latitudes = longitudes = None\n",
    "\n",
    "        for nc_path in extracted_paths:\n",
    "            ds = Dataset(nc_path)\n",
    "            # detecta nombre de dim/vars\n",
    "            if time_objs is None:\n",
    "                time_var = next(v for v in ds.variables if \"time\" in v.lower())\n",
    "                lat_var  = next(v for v in ds.variables if \"lat\"  in v.lower())\n",
    "                lon_var  = next(v for v in ds.variables if \"lon\"  in v.lower())\n",
    "                times    = ds.variables[time_var][:]\n",
    "                time_objs= num2date(times,\n",
    "                            ds.variables[time_var].units,\n",
    "                            getattr(ds.variables[time_var], 'calendar', 'standard'))\n",
    "                latitudes = ds.variables[lat_var][:]\n",
    "                longitudes= ds.variables[lon_var][:]\n",
    "            # identifica la variable de datos\n",
    "            var_keys = [v for v in ds.variables \n",
    "                        if v not in (time_var, lat_var, lon_var, \"number\")]\n",
    "            if len(var_keys) != 1:\n",
    "                raise RuntimeError(f\"Variables inesperadas en {nc_path}: {var_keys}\")\n",
    "            var = var_keys[0]\n",
    "            data_arrays[var] = ds.variables[var][:]\n",
    "            ds.close()\n",
    "\n",
    "        # 3) Inserta en SQLite\n",
    "        sql = f\"\"\"INSERT OR REPLACE INTO {table_name}\n",
    "                (date, latitude, longitude, t2m, d2m, tp)\n",
    "                VALUES (?, ?, ?, ?, ?, ?)\"\"\"\n",
    "        cnt = 0\n",
    "        for ti, dt in enumerate(time_objs):\n",
    "            # usa strftime directamente en el objeto cftime\n",
    "            date_str = dt.strftime(\"%Y-%m-%d\")\n",
    "            for yi, lat in enumerate(latitudes):\n",
    "                for xi, lon in enumerate(longitudes):\n",
    "                    v_t2m = float(data_arrays.get(\"t2m\", data_arrays.get(\"2m_temperature\"))[ti,yi,xi])\n",
    "                    v_d2m = float(data_arrays.get(\"d2m\", data_arrays.get(\"2m_dewpoint_temperature\"))[ti,yi,xi])\n",
    "                    v_tp  = float(data_arrays.get(\"tp\",  data_arrays.get(\"total_precipitation\"))[ti,yi,xi])\n",
    "                    cur.execute(sql, (date_str, float(lat), float(lon), v_t2m, v_d2m, v_tp))\n",
    "                    cnt += 1\n",
    "        conn.commit()\n",
    "\n",
    "        # 4) Borra los temporales\n",
    "        for p in extracted_paths:\n",
    "            try:\n",
    "                os.remove(p)\n",
    "            except OSError:\n",
    "                pass\n",
    "        try:\n",
    "            os.remove(zip_filepath)\n",
    "        except OSError:\n",
    "            pass\n",
    "\n",
    "        return cnt\n",
    "\n",
    "\n",
    "    # ————— Ejecuta ingesta y reporta —————\n",
    "    inserted = ingest_from_zip(\"climate_test\", zip_path)\n",
    "    print(f\"✔ Insertadas/actualizadas {inserted} filas en climate_test\")\n",
    "except:\n",
    "    pass\n",
    "# conn.close()\n"
   ]
  },
  {
   "cell_type": "code",
   "execution_count": 7,
   "id": "409b009c",
   "metadata": {},
   "outputs": [
    {
     "name": "stdout",
     "output_type": "stream",
     "text": [
      "Descargando datos de 2021-01-01 a 2022-12-31 (730 días)…\n"
     ]
    }
   ],
   "source": [
    "#!/usr/bin/env python3\n",
    "# -*- coding: utf-8 -*-\n",
    "\n",
    "import os, math, sqlite3, zipfile, tarfile, tempfile, shutil\n",
    "import numpy as np\n",
    "import pandas as pd\n",
    "from netCDF4 import Dataset, num2date\n",
    "import cdsapi\n",
    "\n",
    "# ========= CONFIG =========\n",
    "# START = \"2023-01-01\"                 # <-- cambia\n",
    "# END   = \"2024-12-31\"                 # <-- cambia\n",
    "# AREA  = [-32.0, -63.5, -33.0, -61.0]     # N, W, S, E  (ejemplo Iberia) <-- cambia\n",
    "\n",
    "\n",
    "# DB_PATH = os.path.join(TMP_DIR, \"climate.sqlite\")\n",
    "TABLE   = \"climate_wxt2\"              # nueva tabla\n",
    "LATLON_DECIMALS = 6\n",
    "# ==========================\n",
    "\n",
    "os.makedirs(TMP_DIR, exist_ok=True)\n",
    "# c = cdsapi.Client()\n",
    "\n",
    "# rango de fechas\n",
    "start = pd.to_datetime(start_); end = pd.to_datetime(end_)\n",
    "dates  = pd.date_range(start, end, freq=\"D\")\n",
    "years  = sorted({str(d.year)      for d in dates})\n",
    "months = sorted({f\"{d.month:02d}\" for d in dates})\n",
    "days   = sorted({f\"{d.day:02d}\"   for d in dates})\n",
    "print(f\"Descargando datos de {start.date()} a {end.date()} ({len(dates)} días)…\")\n",
    "\n",
    "# SQLite\n",
    "conn = sqlite3.connect(DB_PATH)\n",
    "cur  = conn.cursor()\n",
    "cur.execute(f\"\"\"\n",
    "CREATE TABLE IF NOT EXISTS {TABLE} (\n",
    "    date TEXT,\n",
    "    latitude REAL,\n",
    "    longitude REAL,\n",
    "    t2m_min REAL,\n",
    "    t2m_max REAL,\n",
    "    ws10 REAL,\n",
    "    PRIMARY KEY (date, latitude, longitude)\n",
    ")\n",
    "\"\"\")\n",
    "conn.commit()\n",
    "\n",
    "# helpers\n",
    "def to_sql(v):\n",
    "    try:\n",
    "        v = float(v)\n",
    "    except (TypeError, ValueError):\n",
    "        return None\n",
    "    return v if math.isfinite(v) else None\n",
    "\n",
    "def date_to_str(dt):\n",
    "    # válido para datetime y cftime\n",
    "    return f\"{int(dt.year):04d}-{int(dt.month):02d}-{int(dt.day):02d}\"\n",
    "\n",
    "def is_container(p): return zipfile.is_zipfile(p) or tarfile.is_tarfile(p)\n",
    "\n",
    "def extract_nc_members(container_path):\n",
    "    out = []\n",
    "    if zipfile.is_zipfile(container_path):\n",
    "        with zipfile.ZipFile(container_path, 'r') as z:\n",
    "            for m in z.namelist():\n",
    "                if m.endswith(\".nc\"):\n",
    "                    tmpf = tempfile.NamedTemporaryFile(suffix=\".nc\", delete=False, dir=TMP_DIR)\n",
    "                    with z.open(m) as src: shutil.copyfileobj(src, tmpf)\n",
    "                    tmpf.close(); out.append(tmpf.name)\n",
    "    elif tarfile.is_tarfile(container_path):\n",
    "        with tarfile.open(container_path, 'r:*') as t:\n",
    "            for m in t.getmembers():\n",
    "                if m.name.endswith(\".nc\"):\n",
    "                    f = t.extractfile(m)\n",
    "                    if not f: continue\n",
    "                    tmpf = tempfile.NamedTemporaryFile(suffix=\".nc\", delete=False, dir=TMP_DIR)\n",
    "                    shutil.copyfileobj(f, tmpf)\n",
    "                    tmpf.close(); out.append(tmpf.name)\n",
    "    return out\n"
   ]
  },
  {
   "cell_type": "code",
   "execution_count": 9,
   "id": "2647a674",
   "metadata": {},
   "outputs": [
    {
     "name": "stdout",
     "output_type": "stream",
     "text": [
      "Procesando por meses de 2021-01-01 a 2022-12-31…\n",
      "  -> 2021-01-01 a 2021-01-31\n"
     ]
    },
    {
     "name": "stderr",
     "output_type": "stream",
     "text": [
      "2025-09-25 12:02:01,937 INFO Request ID is a9e702ac-fea2-464f-a9d0-ff037d215535\n",
      "2025-09-25 12:02:02,513 INFO status has been updated to accepted\n",
      "2025-09-25 12:02:21,253 INFO status has been updated to running\n",
      "2025-09-25 12:02:41,691 INFO status has been updated to successful\n"
     ]
    },
    {
     "data": {
      "application/vnd.jupyter.widget-view+json": {
       "model_id": "ba1dbfa4677f4294954a473ec53dd878",
       "version_major": 2,
       "version_minor": 0
      },
      "text/plain": [
       "141d12c9e26197832bedf3f3ceff77a.zip:   0%|          | 0.00/45.6k [00:00<?, ?B/s]"
      ]
     },
     "metadata": {},
     "output_type": "display_data"
    },
    {
     "name": "stderr",
     "output_type": "stream",
     "text": [
      "2025-09-25 12:02:58,292 INFO Request ID is 4e60ee15-0c1f-46a7-9260-66066cfb87e1\n",
      "2025-09-25 12:02:58,386 INFO status has been updated to accepted\n",
      "2025-09-25 12:03:09,925 INFO status has been updated to running\n",
      "2025-09-25 12:03:23,038 INFO status has been updated to successful\n"
     ]
    },
    {
     "data": {
      "application/vnd.jupyter.widget-view+json": {
       "model_id": "8e3e19f44f7e4e95b2467419455b0a29",
       "version_major": 2,
       "version_minor": 0
      },
      "text/plain": [
       "99b4e127ff502832f9ec4ab64d151f3e.nc:   0%|          | 0.00/22.5k [00:00<?, ?B/s]"
      ]
     },
     "metadata": {},
     "output_type": "display_data"
    },
    {
     "name": "stderr",
     "output_type": "stream",
     "text": [
      "2025-09-25 12:03:26,812 INFO Request ID is 76c91e3d-77dc-471c-a474-abf8bebf32ad\n",
      "2025-09-25 12:03:28,445 INFO status has been updated to accepted\n",
      "2025-09-25 12:03:40,356 INFO status has been updated to running\n",
      "2025-09-25 12:04:01,893 INFO status has been updated to successful\n"
     ]
    },
    {
     "data": {
      "application/vnd.jupyter.widget-view+json": {
       "model_id": "a7b19c0b795b4660be262e6670ffe0cc",
       "version_major": 2,
       "version_minor": 0
      },
      "text/plain": [
       "19f88398bb0901256b097b522d63331d.nc:   0%|          | 0.00/22.5k [00:00<?, ?B/s]"
      ]
     },
     "metadata": {},
     "output_type": "display_data"
    },
    {
     "name": "stdout",
     "output_type": "stream",
     "text": [
      "  -> 2021-02-01 a 2021-02-28\n"
     ]
    },
    {
     "name": "stderr",
     "output_type": "stream",
     "text": [
      "2025-09-25 12:04:04,165 INFO Request ID is a437981f-4196-4c6d-a8b0-afcd6b0729d8\n",
      "2025-09-25 12:04:05,621 INFO status has been updated to accepted\n",
      "2025-09-25 12:04:25,061 INFO status has been updated to running\n",
      "2025-09-25 12:05:04,308 INFO status has been updated to successful\n"
     ]
    },
    {
     "data": {
      "application/vnd.jupyter.widget-view+json": {
       "model_id": "979cf69842574fa6a2078f2184b4e0cb",
       "version_major": 2,
       "version_minor": 0
      },
      "text/plain": [
       "7ba0d4f348af52a1026b768f06fc25fa.zip:   0%|          | 0.00/45.6k [00:00<?, ?B/s]"
      ]
     },
     "metadata": {},
     "output_type": "display_data"
    },
    {
     "name": "stderr",
     "output_type": "stream",
     "text": [
      "2025-09-25 12:05:14,319 INFO Request ID is d3b9547f-49c4-49be-92ee-88efd547cb85\n",
      "2025-09-25 12:05:14,910 INFO status has been updated to accepted\n",
      "2025-09-25 12:05:50,124 INFO status has been updated to successful\n"
     ]
    },
    {
     "data": {
      "application/vnd.jupyter.widget-view+json": {
       "model_id": "b7a3e3ac345644ab802ecaf637bd74c0",
       "version_major": 2,
       "version_minor": 0
      },
      "text/plain": [
       "97ce9412fcb1e9732bad1cc0125bbe84.nc:   0%|          | 0.00/22.5k [00:00<?, ?B/s]"
      ]
     },
     "metadata": {},
     "output_type": "display_data"
    },
    {
     "name": "stderr",
     "output_type": "stream",
     "text": [
      "2025-09-25 12:05:52,479 INFO Request ID is 9e2542ad-b313-46aa-acac-3e67b7551ff8\n",
      "2025-09-25 12:05:52,739 INFO status has been updated to accepted\n",
      "2025-09-25 12:06:44,114 INFO status has been updated to successful\n"
     ]
    },
    {
     "data": {
      "application/vnd.jupyter.widget-view+json": {
       "model_id": "4d4d00e9ee6e4a07908bae9c8394956b",
       "version_major": 2,
       "version_minor": 0
      },
      "text/plain": [
       "b4f12877a0f5220aa3831933e52a0ae0.nc:   0%|          | 0.00/22.5k [00:00<?, ?B/s]"
      ]
     },
     "metadata": {},
     "output_type": "display_data"
    },
    {
     "name": "stdout",
     "output_type": "stream",
     "text": [
      "  -> 2021-03-01 a 2021-03-31\n"
     ]
    },
    {
     "name": "stderr",
     "output_type": "stream",
     "text": [
      "2025-09-25 12:06:50,075 INFO Request ID is 50019408-d00b-46d9-9500-62213f158aca\n",
      "2025-09-25 12:06:50,220 INFO status has been updated to accepted\n",
      "2025-09-25 12:07:42,901 INFO status has been updated to running\n",
      "2025-09-25 12:08:48,708 INFO status has been updated to successful\n"
     ]
    },
    {
     "data": {
      "application/vnd.jupyter.widget-view+json": {
       "model_id": "8cf97a83bc8e4d378e8850ad469b8d36",
       "version_major": 2,
       "version_minor": 0
      },
      "text/plain": [
       "a1d9454fbc4827e3c6959c8f9e8c6205.zip:   0%|          | 0.00/45.6k [00:00<?, ?B/s]"
      ]
     },
     "metadata": {},
     "output_type": "display_data"
    },
    {
     "name": "stderr",
     "output_type": "stream",
     "text": [
      "2025-09-25 12:08:56,616 INFO Request ID is 626bf881-1e80-4b08-997f-00a99e831e6f\n",
      "2025-09-25 12:08:56,774 INFO status has been updated to accepted\n",
      "2025-09-25 12:09:08,666 INFO status has been updated to running\n",
      "2025-09-25 12:09:36,895 INFO status has been updated to successful\n"
     ]
    },
    {
     "data": {
      "application/vnd.jupyter.widget-view+json": {
       "model_id": "134f77229fe34e989572d13b963ff53b",
       "version_major": 2,
       "version_minor": 0
      },
      "text/plain": [
       "b865456fe221b87c3f13085725d9d33.nc:   0%|          | 0.00/22.5k [00:00<?, ?B/s]"
      ]
     },
     "metadata": {},
     "output_type": "display_data"
    },
    {
     "name": "stderr",
     "output_type": "stream",
     "text": [
      "2025-09-25 12:09:46,254 INFO Request ID is d78b44e5-e96b-4a17-87b0-cd1c852baf63\n",
      "2025-09-25 12:09:46,627 INFO status has been updated to accepted\n",
      "2025-09-25 12:09:58,580 INFO status has been updated to running\n",
      "2025-09-25 12:10:11,991 INFO status has been updated to successful\n"
     ]
    },
    {
     "data": {
      "application/vnd.jupyter.widget-view+json": {
       "model_id": "f1a513994116463e89c2f9f11dff2c63",
       "version_major": 2,
       "version_minor": 0
      },
      "text/plain": [
       "aef07762878ba59c7a7e43e9bafe9156.nc:   0%|          | 0.00/22.5k [00:00<?, ?B/s]"
      ]
     },
     "metadata": {},
     "output_type": "display_data"
    },
    {
     "name": "stdout",
     "output_type": "stream",
     "text": [
      "  -> 2021-04-01 a 2021-04-30\n"
     ]
    },
    {
     "name": "stderr",
     "output_type": "stream",
     "text": [
      "2025-09-25 12:10:22,542 INFO Request ID is e56ebe5c-8216-454f-a340-c13ebc453110\n",
      "2025-09-25 12:10:23,593 INFO status has been updated to accepted\n",
      "2025-09-25 12:10:32,704 INFO status has been updated to running\n",
      "2025-09-25 12:10:49,541 INFO status has been updated to successful\n"
     ]
    },
    {
     "data": {
      "application/vnd.jupyter.widget-view+json": {
       "model_id": "ebddfaf90c53498fa4c545aebef03aa7",
       "version_major": 2,
       "version_minor": 0
      },
      "text/plain": [
       "f5b012d461d40f1a8ed65d1530344ffc.zip:   0%|          | 0.00/45.6k [00:00<?, ?B/s]"
      ]
     },
     "metadata": {},
     "output_type": "display_data"
    },
    {
     "name": "stderr",
     "output_type": "stream",
     "text": [
      "2025-09-25 12:11:00,037 INFO Request ID is 1d45c465-20b3-44fb-8b2f-147d73903964\n",
      "2025-09-25 12:11:00,294 INFO status has been updated to accepted\n",
      "2025-09-25 12:11:17,202 INFO status has been updated to running\n",
      "2025-09-25 12:11:38,496 INFO status has been updated to successful\n"
     ]
    },
    {
     "data": {
      "application/vnd.jupyter.widget-view+json": {
       "model_id": "e05f3b28775f40a39e3a52f5d158c1d3",
       "version_major": 2,
       "version_minor": 0
      },
      "text/plain": [
       "8254a700fa8605191167ad18fa727c93.nc:   0%|          | 0.00/22.5k [00:00<?, ?B/s]"
      ]
     },
     "metadata": {},
     "output_type": "display_data"
    },
    {
     "name": "stderr",
     "output_type": "stream",
     "text": [
      "2025-09-25 12:11:49,651 INFO Request ID is 6fc9a805-b98f-4fcd-a8c8-f91691ea27cb\n",
      "2025-09-25 12:11:50,079 INFO status has been updated to accepted\n",
      "2025-09-25 12:12:02,355 INFO status has been updated to running\n",
      "2025-09-25 12:12:10,220 INFO status has been updated to successful\n"
     ]
    },
    {
     "data": {
      "application/vnd.jupyter.widget-view+json": {
       "model_id": "95e263867fe24b38a50591b72e7a1978",
       "version_major": 2,
       "version_minor": 0
      },
      "text/plain": [
       "bce51c120b445011cd1915783c4cdf32.nc:   0%|          | 0.00/22.5k [00:00<?, ?B/s]"
      ]
     },
     "metadata": {},
     "output_type": "display_data"
    },
    {
     "name": "stdout",
     "output_type": "stream",
     "text": [
      "  -> 2021-05-01 a 2021-05-31\n"
     ]
    },
    {
     "name": "stderr",
     "output_type": "stream",
     "text": [
      "2025-09-25 12:12:13,678 INFO Request ID is 24c6eb96-6eeb-4da9-928c-13100fdbb5a4\n",
      "2025-09-25 12:12:14,335 INFO status has been updated to accepted\n",
      "2025-09-25 12:12:38,457 INFO status has been updated to running\n",
      "2025-09-25 12:12:52,006 INFO status has been updated to successful\n"
     ]
    },
    {
     "data": {
      "application/vnd.jupyter.widget-view+json": {
       "model_id": "a9b1c22dfd7b4455be71babee77f806d",
       "version_major": 2,
       "version_minor": 0
      },
      "text/plain": [
       "713925fe30e5c98ead8f3978af9c326a.zip:   0%|          | 0.00/45.6k [00:00<?, ?B/s]"
      ]
     },
     "metadata": {},
     "output_type": "display_data"
    },
    {
     "name": "stderr",
     "output_type": "stream",
     "text": [
      "2025-09-25 12:13:01,380 INFO Request ID is 0969131f-48b2-439c-bcb9-7826128143f8\n",
      "2025-09-25 12:13:01,741 INFO status has been updated to accepted\n",
      "2025-09-25 12:13:16,616 INFO status has been updated to running\n",
      "2025-09-25 12:13:36,541 INFO status has been updated to successful\n"
     ]
    },
    {
     "data": {
      "application/vnd.jupyter.widget-view+json": {
       "model_id": "1b2d622b8a514cedbbbb98fd5fcbe294",
       "version_major": 2,
       "version_minor": 0
      },
      "text/plain": [
       "247b3ece160403a4d20a4db187b6030a.nc:   0%|          | 0.00/22.5k [00:00<?, ?B/s]"
      ]
     },
     "metadata": {},
     "output_type": "display_data"
    },
    {
     "name": "stderr",
     "output_type": "stream",
     "text": [
      "2025-09-25 12:13:46,712 INFO Request ID is a0787921-359a-402c-9da4-9c0d9740f948\n",
      "2025-09-25 12:13:46,819 INFO status has been updated to accepted\n",
      "2025-09-25 12:14:01,869 INFO status has been updated to running\n",
      "2025-09-25 12:14:22,836 INFO status has been updated to successful\n"
     ]
    },
    {
     "data": {
      "application/vnd.jupyter.widget-view+json": {
       "model_id": "8fe2a2bd732d493682ad01a0c767f1e8",
       "version_major": 2,
       "version_minor": 0
      },
      "text/plain": [
       "b9105a9b6480ec6e8de7779f5a7feb17.nc:   0%|          | 0.00/22.5k [00:00<?, ?B/s]"
      ]
     },
     "metadata": {},
     "output_type": "display_data"
    },
    {
     "name": "stdout",
     "output_type": "stream",
     "text": [
      "  -> 2021-06-01 a 2021-06-30\n"
     ]
    },
    {
     "name": "stderr",
     "output_type": "stream",
     "text": [
      "2025-09-25 12:14:32,814 INFO Request ID is deedf2e2-7644-4a74-82ad-dc8135fe32ce\n",
      "2025-09-25 12:14:33,074 INFO status has been updated to accepted\n",
      "2025-09-25 12:14:47,432 INFO status has been updated to running\n",
      "2025-09-25 12:15:57,725 INFO status has been updated to successful\n"
     ]
    },
    {
     "data": {
      "application/vnd.jupyter.widget-view+json": {
       "model_id": "e78f355eb7d143729ee040dae884f039",
       "version_major": 2,
       "version_minor": 0
      },
      "text/plain": [
       "38dc030b2cd0be3a8420517af497c798.zip:   0%|          | 0.00/45.6k [00:00<?, ?B/s]"
      ]
     },
     "metadata": {},
     "output_type": "display_data"
    },
    {
     "name": "stderr",
     "output_type": "stream",
     "text": [
      "2025-09-25 12:15:59,758 INFO Request ID is d624a6ba-a041-4d75-ba8d-89e5ade9c18a\n",
      "2025-09-25 12:15:59,970 INFO status has been updated to accepted\n",
      "2025-09-25 12:16:10,267 INFO status has been updated to running\n",
      "2025-09-25 12:16:23,645 INFO status has been updated to successful\n"
     ]
    },
    {
     "data": {
      "application/vnd.jupyter.widget-view+json": {
       "model_id": "a1c37189c95c4264bc5ee7909f7957b1",
       "version_major": 2,
       "version_minor": 0
      },
      "text/plain": [
       "412246b7fdfb4f42e9135414db929b8f.nc:   0%|          | 0.00/22.5k [00:00<?, ?B/s]"
      ]
     },
     "metadata": {},
     "output_type": "display_data"
    },
    {
     "name": "stderr",
     "output_type": "stream",
     "text": [
      "2025-09-25 12:16:26,607 INFO Request ID is ea82f494-e6e1-4923-a4a3-9b94016719df\n",
      "2025-09-25 12:16:27,619 INFO status has been updated to accepted\n",
      "2025-09-25 12:16:35,634 INFO status has been updated to running\n",
      "2025-09-25 12:16:54,500 INFO status has been updated to successful\n"
     ]
    },
    {
     "data": {
      "application/vnd.jupyter.widget-view+json": {
       "model_id": "529e103a660d45aca2347e7ec64b1cb8",
       "version_major": 2,
       "version_minor": 0
      },
      "text/plain": [
       "e5e34672668590590b7dd21f66c3aaa0.nc:   0%|          | 0.00/22.5k [00:00<?, ?B/s]"
      ]
     },
     "metadata": {},
     "output_type": "display_data"
    },
    {
     "name": "stdout",
     "output_type": "stream",
     "text": [
      "  -> 2021-07-01 a 2021-07-31\n"
     ]
    },
    {
     "name": "stderr",
     "output_type": "stream",
     "text": [
      "2025-09-25 12:17:04,393 INFO Request ID is 2faa6ae0-ded2-4c62-948e-a837bcbac605\n",
      "2025-09-25 12:17:04,811 INFO status has been updated to accepted\n",
      "2025-09-25 12:17:15,632 INFO status has been updated to running\n",
      "2025-09-25 12:17:45,239 INFO status has been updated to successful\n"
     ]
    },
    {
     "data": {
      "application/vnd.jupyter.widget-view+json": {
       "model_id": "1a0ba4fce5cb47529ddeb0f9fb489471",
       "version_major": 2,
       "version_minor": 0
      },
      "text/plain": [
       "12bc2fea3b1dc6506f385ccc2d337632.zip:   0%|          | 0.00/45.6k [00:00<?, ?B/s]"
      ]
     },
     "metadata": {},
     "output_type": "display_data"
    },
    {
     "name": "stderr",
     "output_type": "stream",
     "text": [
      "2025-09-25 12:17:54,217 INFO Request ID is d56b3e83-f52c-4360-af1c-861da17ba15e\n",
      "2025-09-25 12:17:54,392 INFO status has been updated to accepted\n",
      "2025-09-25 12:18:04,930 INFO status has been updated to running\n",
      "Recovering from connection error [('Connection aborted.', ConnectionResetError(10054, 'Se ha forzado la interrupción de una conexión existente por el host remoto', None, 10054, None))], attempt 1 of 500\n",
      "Retrying in 120 seconds\n",
      "2025-09-25 12:20:37,790 INFO status has been updated to successful\n"
     ]
    },
    {
     "data": {
      "application/vnd.jupyter.widget-view+json": {
       "model_id": "2c4bc305f6454711a30f33a543703ff8",
       "version_major": 2,
       "version_minor": 0
      },
      "text/plain": [
       "e82776704bcbfe5c9ca354d3c2d591e2.nc:   0%|          | 0.00/22.5k [00:00<?, ?B/s]"
      ]
     },
     "metadata": {},
     "output_type": "display_data"
    },
    {
     "name": "stderr",
     "output_type": "stream",
     "text": [
      "2025-09-25 12:20:39,219 INFO Request ID is de0c45e3-7be4-48cb-9b8f-5ea454d158ef\n",
      "2025-09-25 12:20:39,306 INFO status has been updated to accepted\n",
      "2025-09-25 12:20:53,404 INFO status has been updated to running\n",
      "2025-09-25 12:21:29,930 INFO status has been updated to successful\n"
     ]
    },
    {
     "data": {
      "application/vnd.jupyter.widget-view+json": {
       "model_id": "26aa855d13814c8b8a70d7a8f7aa93db",
       "version_major": 2,
       "version_minor": 0
      },
      "text/plain": [
       "e7ede63a231e88f18fb000ae4675062c.nc:   0%|          | 0.00/22.5k [00:00<?, ?B/s]"
      ]
     },
     "metadata": {},
     "output_type": "display_data"
    },
    {
     "name": "stdout",
     "output_type": "stream",
     "text": [
      "  -> 2021-08-01 a 2021-08-31\n"
     ]
    },
    {
     "name": "stderr",
     "output_type": "stream",
     "text": [
      "2025-09-25 12:21:31,404 INFO Request ID is 37004a6c-c5a2-4606-9fb4-3d4999aaac45\n",
      "2025-09-25 12:21:31,464 INFO status has been updated to accepted\n",
      "2025-09-25 12:21:40,996 INFO status has been updated to running\n",
      "2025-09-25 12:22:22,901 INFO status has been updated to successful\n"
     ]
    },
    {
     "data": {
      "application/vnd.jupyter.widget-view+json": {
       "model_id": "2393a0e337b34592b3a93f82f5387897",
       "version_major": 2,
       "version_minor": 0
      },
      "text/plain": [
       "b892d5535082696e1834a3199e156c59.zip:   0%|          | 0.00/45.6k [00:00<?, ?B/s]"
      ]
     },
     "metadata": {},
     "output_type": "display_data"
    },
    {
     "name": "stderr",
     "output_type": "stream",
     "text": [
      "2025-09-25 12:22:24,506 INFO Request ID is 648caad5-129f-4cd2-9da4-8f39efa74107\n",
      "2025-09-25 12:22:24,592 INFO status has been updated to accepted\n",
      "2025-09-25 12:22:38,394 INFO status has been updated to running\n",
      "2025-09-25 12:22:57,657 INFO status has been updated to successful\n"
     ]
    },
    {
     "data": {
      "application/vnd.jupyter.widget-view+json": {
       "model_id": "47c37f749af34ac8a27b71966c90e3ae",
       "version_major": 2,
       "version_minor": 0
      },
      "text/plain": [
       "f77e9b585cc6b2133c02b9fb719edb7e.nc:   0%|          | 0.00/22.5k [00:00<?, ?B/s]"
      ]
     },
     "metadata": {},
     "output_type": "display_data"
    },
    {
     "name": "stderr",
     "output_type": "stream",
     "text": [
      "2025-09-25 12:22:59,614 INFO Request ID is 9b8b5c3f-8d84-49f8-ac61-f10359a53ee7\n",
      "2025-09-25 12:22:59,684 INFO status has been updated to accepted\n",
      "2025-09-25 12:23:13,617 INFO status has been updated to running\n",
      "2025-09-25 12:23:21,737 INFO status has been updated to successful\n"
     ]
    },
    {
     "data": {
      "application/vnd.jupyter.widget-view+json": {
       "model_id": "5e0d3689ec2946f6bcfd0d5fa9221482",
       "version_major": 2,
       "version_minor": 0
      },
      "text/plain": [
       "cce912ab651f52a7814ac343da133471.nc:   0%|          | 0.00/22.5k [00:00<?, ?B/s]"
      ]
     },
     "metadata": {},
     "output_type": "display_data"
    },
    {
     "name": "stdout",
     "output_type": "stream",
     "text": [
      "  -> 2021-09-01 a 2021-09-30\n"
     ]
    },
    {
     "name": "stderr",
     "output_type": "stream",
     "text": [
      "2025-09-25 12:23:23,992 INFO Request ID is 928ef90d-be31-4b7a-a096-737b0d61e6d2\n",
      "2025-09-25 12:23:24,056 INFO status has been updated to accepted\n",
      "2025-09-25 12:23:45,527 INFO status has been updated to running\n",
      "2025-09-25 12:23:58,173 INFO status has been updated to successful\n"
     ]
    },
    {
     "data": {
      "application/vnd.jupyter.widget-view+json": {
       "model_id": "4be3c0e5b21349fcb0dd021697795ba9",
       "version_major": 2,
       "version_minor": 0
      },
      "text/plain": [
       "9c3e7e8b7acc900b198237036bb9cdf5.zip:   0%|          | 0.00/45.6k [00:00<?, ?B/s]"
      ]
     },
     "metadata": {},
     "output_type": "display_data"
    },
    {
     "name": "stderr",
     "output_type": "stream",
     "text": [
      "2025-09-25 12:24:05,313 INFO Request ID is 82fd1ef2-2176-4ab4-bdb1-2e173bffc1e5\n",
      "2025-09-25 12:24:05,670 INFO status has been updated to accepted\n",
      "2025-09-25 12:24:27,208 INFO status has been updated to running\n",
      "2025-09-25 12:24:38,696 INFO status has been updated to successful\n"
     ]
    },
    {
     "data": {
      "application/vnd.jupyter.widget-view+json": {
       "model_id": "8744c5caf38342dca2b14ae2391afead",
       "version_major": 2,
       "version_minor": 0
      },
      "text/plain": [
       "d840ea9bd41eeed17fc57b60e2abd4b8.nc:   0%|          | 0.00/22.5k [00:00<?, ?B/s]"
      ]
     },
     "metadata": {},
     "output_type": "display_data"
    },
    {
     "name": "stderr",
     "output_type": "stream",
     "text": [
      "2025-09-25 12:24:40,340 INFO Request ID is 3107c5db-3145-4bd7-bb0f-816ccac0f1d7\n",
      "2025-09-25 12:24:40,452 INFO status has been updated to accepted\n",
      "2025-09-25 12:24:48,885 INFO status has been updated to running\n",
      "2025-09-25 12:25:13,290 INFO status has been updated to successful\n"
     ]
    },
    {
     "data": {
      "application/vnd.jupyter.widget-view+json": {
       "model_id": "e3caf1871bf74495ace62560b237561e",
       "version_major": 2,
       "version_minor": 0
      },
      "text/plain": [
       "4b98463077b023e8abbde454d24658d.nc:   0%|          | 0.00/22.5k [00:00<?, ?B/s]"
      ]
     },
     "metadata": {},
     "output_type": "display_data"
    },
    {
     "name": "stdout",
     "output_type": "stream",
     "text": [
      "  -> 2021-10-01 a 2021-10-31\n"
     ]
    },
    {
     "name": "stderr",
     "output_type": "stream",
     "text": [
      "2025-09-25 12:25:15,903 INFO Request ID is f5c132b9-9b98-41c1-8689-a7b9981fc2ce\n",
      "2025-09-25 12:25:15,999 INFO status has been updated to accepted\n",
      "2025-09-25 12:25:49,554 INFO status has been updated to successful\n"
     ]
    },
    {
     "data": {
      "application/vnd.jupyter.widget-view+json": {
       "model_id": "eb90e8fda7e548379fee4ac85a9916ed",
       "version_major": 2,
       "version_minor": 0
      },
      "text/plain": [
       "e64a6a7b61a8f8622bec53c585ba1efb.zip:   0%|          | 0.00/45.6k [00:00<?, ?B/s]"
      ]
     },
     "metadata": {},
     "output_type": "display_data"
    },
    {
     "name": "stderr",
     "output_type": "stream",
     "text": [
      "2025-09-25 12:25:50,944 INFO Request ID is d5d2fb93-25a2-488e-aa90-d02c13807d01\n",
      "2025-09-25 12:25:51,046 INFO status has been updated to accepted\n",
      "2025-09-25 12:25:59,594 INFO status has been updated to running\n",
      "2025-09-25 12:26:41,571 INFO status has been updated to successful\n"
     ]
    },
    {
     "data": {
      "application/vnd.jupyter.widget-view+json": {
       "model_id": "e956d7b0c97849d9b48ad67fd8a5501d",
       "version_major": 2,
       "version_minor": 0
      },
      "text/plain": [
       "e9b4adc6b0a61e873acd2c5ec884153f.nc:   0%|          | 0.00/22.5k [00:00<?, ?B/s]"
      ]
     },
     "metadata": {},
     "output_type": "display_data"
    },
    {
     "name": "stderr",
     "output_type": "stream",
     "text": [
      "2025-09-25 12:26:43,210 INFO Request ID is f1d4f597-a529-49da-b5f6-3281a09ffc4b\n",
      "2025-09-25 12:26:43,313 INFO status has been updated to accepted\n",
      "2025-09-25 12:26:57,098 INFO status has been updated to running\n",
      "2025-09-25 12:27:16,913 INFO status has been updated to successful\n"
     ]
    },
    {
     "data": {
      "application/vnd.jupyter.widget-view+json": {
       "model_id": "f746c6deedbb40558ceac97e1a06c628",
       "version_major": 2,
       "version_minor": 0
      },
      "text/plain": [
       "d7db30c02760708e79b5f0671548899d.nc:   0%|          | 0.00/22.5k [00:00<?, ?B/s]"
      ]
     },
     "metadata": {},
     "output_type": "display_data"
    },
    {
     "name": "stdout",
     "output_type": "stream",
     "text": [
      "  -> 2021-11-01 a 2021-11-30\n"
     ]
    },
    {
     "name": "stderr",
     "output_type": "stream",
     "text": [
      "2025-09-25 12:27:19,006 INFO Request ID is 284e2028-3e29-4e7c-842a-7d37436ffe10\n",
      "2025-09-25 12:27:19,065 INFO status has been updated to accepted\n",
      "2025-09-25 12:27:32,773 INFO status has been updated to running\n",
      "2025-09-25 12:28:09,212 INFO status has been updated to successful\n"
     ]
    },
    {
     "data": {
      "application/vnd.jupyter.widget-view+json": {
       "model_id": "2322ee3bd33b4adfa6c1a7174b1cfd26",
       "version_major": 2,
       "version_minor": 0
      },
      "text/plain": [
       "40155c7146cf253befab1f049e1d75ca.zip:   0%|          | 0.00/45.6k [00:00<?, ?B/s]"
      ]
     },
     "metadata": {},
     "output_type": "display_data"
    },
    {
     "name": "stderr",
     "output_type": "stream",
     "text": [
      "2025-09-25 12:28:10,610 INFO Request ID is 9ecb5c3f-f920-4f70-a3c6-019c4867a5a4\n",
      "2025-09-25 12:28:10,717 INFO status has been updated to accepted\n",
      "2025-09-25 12:28:24,447 INFO status has been updated to running\n",
      "2025-09-25 12:28:32,182 INFO status has been updated to successful\n"
     ]
    },
    {
     "data": {
      "application/vnd.jupyter.widget-view+json": {
       "model_id": "2faee28be34b419e9966b30b196cb55a",
       "version_major": 2,
       "version_minor": 0
      },
      "text/plain": [
       "11bdf5cabcabf48c0bf3b3baa7af419e.nc:   0%|          | 0.00/22.5k [00:00<?, ?B/s]"
      ]
     },
     "metadata": {},
     "output_type": "display_data"
    },
    {
     "name": "stderr",
     "output_type": "stream",
     "text": [
      "2025-09-25 12:28:34,933 INFO Request ID is 4e011d36-68ed-400e-be8f-8931fe48176c\n",
      "2025-09-25 12:28:35,000 INFO status has been updated to accepted\n",
      "2025-09-25 12:28:48,661 INFO status has been updated to running\n",
      "2025-09-25 12:29:24,993 INFO status has been updated to successful\n"
     ]
    },
    {
     "data": {
      "application/vnd.jupyter.widget-view+json": {
       "model_id": "31ba799641f6445999e196082fa92dc9",
       "version_major": 2,
       "version_minor": 0
      },
      "text/plain": [
       "dd4c6ebaf5cdb97260c8caa60836ed21.nc:   0%|          | 0.00/22.5k [00:00<?, ?B/s]"
      ]
     },
     "metadata": {},
     "output_type": "display_data"
    },
    {
     "name": "stdout",
     "output_type": "stream",
     "text": [
      "  -> 2021-12-01 a 2021-12-31\n"
     ]
    },
    {
     "name": "stderr",
     "output_type": "stream",
     "text": [
      "2025-09-25 12:29:27,655 INFO Request ID is 3a719f0a-9d2a-4775-b282-c86360863d75\n",
      "2025-09-25 12:29:27,748 INFO status has been updated to accepted\n",
      "2025-09-25 12:29:36,205 INFO status has been updated to running\n",
      "2025-09-25 12:30:17,759 INFO status has been updated to successful\n"
     ]
    },
    {
     "data": {
      "application/vnd.jupyter.widget-view+json": {
       "model_id": "b35c3afee2344b59b3431693d3e4a731",
       "version_major": 2,
       "version_minor": 0
      },
      "text/plain": [
       "973dd9abc0cd252bc3b87cc6a12bd4ed.zip:   0%|          | 0.00/45.6k [00:00<?, ?B/s]"
      ]
     },
     "metadata": {},
     "output_type": "display_data"
    },
    {
     "name": "stderr",
     "output_type": "stream",
     "text": [
      "2025-09-25 12:30:21,012 INFO Request ID is 303f3ccf-1e2a-4e9e-b5de-f1381dd173ee\n",
      "2025-09-25 12:30:21,090 INFO status has been updated to accepted\n",
      "2025-09-25 12:30:29,568 INFO status has been updated to running\n",
      "2025-09-25 12:31:36,951 INFO status has been updated to successful\n"
     ]
    },
    {
     "data": {
      "application/vnd.jupyter.widget-view+json": {
       "model_id": "6c5143afbd9d45c6a0cd38c2617b582b",
       "version_major": 2,
       "version_minor": 0
      },
      "text/plain": [
       "b6f415dcd340150969e1d4975dfdedab.nc:   0%|          | 0.00/22.5k [00:00<?, ?B/s]"
      ]
     },
     "metadata": {},
     "output_type": "display_data"
    },
    {
     "name": "stderr",
     "output_type": "stream",
     "text": [
      "2025-09-25 12:31:38,274 INFO Request ID is fece0ccd-ef7b-4deb-a9d1-72d6583507df\n",
      "2025-09-25 12:31:38,367 INFO status has been updated to accepted\n",
      "2025-09-25 12:31:59,906 INFO status has been updated to running\n",
      "2025-09-25 12:32:28,555 INFO status has been updated to successful\n"
     ]
    },
    {
     "data": {
      "application/vnd.jupyter.widget-view+json": {
       "model_id": "3157bf264b7d42b586f868628bdb4b3f",
       "version_major": 2,
       "version_minor": 0
      },
      "text/plain": [
       "c0a35836e63a3175dc403baef617b3d0.nc:   0%|          | 0.00/22.5k [00:00<?, ?B/s]"
      ]
     },
     "metadata": {},
     "output_type": "display_data"
    },
    {
     "name": "stdout",
     "output_type": "stream",
     "text": [
      "  -> 2022-01-01 a 2022-01-31\n"
     ]
    },
    {
     "name": "stderr",
     "output_type": "stream",
     "text": [
      "2025-09-25 12:32:29,560 INFO Request ID is 494c8848-1804-4c0f-9559-37c32e6d682b\n",
      "2025-09-25 12:32:29,624 INFO status has been updated to accepted\n",
      "2025-09-25 12:32:43,229 INFO status has been updated to running\n",
      "2025-09-25 12:33:02,422 INFO status has been updated to successful\n"
     ]
    },
    {
     "data": {
      "application/vnd.jupyter.widget-view+json": {
       "model_id": "2ed7d81681e44821aaaa2dff388a1a42",
       "version_major": 2,
       "version_minor": 0
      },
      "text/plain": [
       "d436b3695a40ae05610284afde2d8963.zip:   0%|          | 0.00/45.6k [00:00<?, ?B/s]"
      ]
     },
     "metadata": {},
     "output_type": "display_data"
    },
    {
     "name": "stderr",
     "output_type": "stream",
     "text": [
      "2025-09-25 12:33:03,669 INFO Request ID is 50f03993-70a6-4e53-8ae5-cd68d8aca021\n",
      "2025-09-25 12:33:03,746 INFO status has been updated to accepted\n",
      "2025-09-25 12:33:12,708 INFO status has been updated to running\n",
      "2025-09-25 12:33:37,056 INFO status has been updated to successful\n"
     ]
    },
    {
     "data": {
      "application/vnd.jupyter.widget-view+json": {
       "model_id": "b8cef240e7fc4ef08a4215f63a123a8a",
       "version_major": 2,
       "version_minor": 0
      },
      "text/plain": [
       "182f2c935734f8b9dd52d1d3523dd1b3.nc:   0%|          | 0.00/22.5k [00:00<?, ?B/s]"
      ]
     },
     "metadata": {},
     "output_type": "display_data"
    },
    {
     "name": "stderr",
     "output_type": "stream",
     "text": [
      "2025-09-25 12:33:37,941 INFO Request ID is 685ad812-cc2c-4ece-bc51-07710b0a4c11\n",
      "2025-09-25 12:33:38,017 INFO status has been updated to accepted\n",
      "2025-09-25 12:34:00,194 INFO status has been updated to running\n",
      "2025-09-25 12:34:54,724 INFO status has been updated to successful\n"
     ]
    },
    {
     "data": {
      "application/vnd.jupyter.widget-view+json": {
       "model_id": "e5e2058a27b647989069687c282607e2",
       "version_major": 2,
       "version_minor": 0
      },
      "text/plain": [
       "df8d66e8734a80dbd881534db5c6a526.nc:   0%|          | 0.00/22.5k [00:00<?, ?B/s]"
      ]
     },
     "metadata": {},
     "output_type": "display_data"
    },
    {
     "name": "stdout",
     "output_type": "stream",
     "text": [
      "  -> 2022-02-01 a 2022-02-28\n"
     ]
    },
    {
     "name": "stderr",
     "output_type": "stream",
     "text": [
      "2025-09-25 12:34:56,129 INFO Request ID is 464d7da5-3639-4662-9c8d-791825596127\n",
      "2025-09-25 12:34:56,222 INFO status has been updated to accepted\n",
      "2025-09-25 12:35:18,926 INFO status has been updated to running\n",
      "2025-09-25 12:35:47,538 INFO status has been updated to successful\n"
     ]
    },
    {
     "data": {
      "application/vnd.jupyter.widget-view+json": {
       "model_id": "395b7053c5144f1da73279cad28e7641",
       "version_major": 2,
       "version_minor": 0
      },
      "text/plain": [
       "c62bf38d9f456ca8e8e2a6d03007a4.zip:   0%|          | 0.00/45.6k [00:00<?, ?B/s]"
      ]
     },
     "metadata": {},
     "output_type": "display_data"
    },
    {
     "name": "stderr",
     "output_type": "stream",
     "text": [
      "2025-09-25 12:35:48,888 INFO Request ID is a0b35808-e23c-4c3b-98e1-d634985369d4\n",
      "2025-09-25 12:35:48,982 INFO status has been updated to accepted\n",
      "2025-09-25 12:36:10,562 INFO status has been updated to running\n",
      "2025-09-25 12:36:22,035 INFO status has been updated to successful\n"
     ]
    },
    {
     "data": {
      "application/vnd.jupyter.widget-view+json": {
       "model_id": "d1264fefeb7449bf90b2ee62e7375434",
       "version_major": 2,
       "version_minor": 0
      },
      "text/plain": [
       "1714f00632f27a9ba21257611391794b.nc:   0%|          | 0.00/22.5k [00:00<?, ?B/s]"
      ]
     },
     "metadata": {},
     "output_type": "display_data"
    },
    {
     "name": "stderr",
     "output_type": "stream",
     "text": [
      "2025-09-25 12:36:23,208 INFO Request ID is 6899b6a4-0881-4039-b73e-233619b2c06b\n",
      "2025-09-25 12:36:23,578 INFO status has been updated to accepted\n",
      "2025-09-25 12:36:32,015 INFO status has been updated to running\n",
      "2025-09-25 12:37:13,455 INFO status has been updated to successful\n"
     ]
    },
    {
     "data": {
      "application/vnd.jupyter.widget-view+json": {
       "model_id": "ec444f8d85c340798dd1f896caa97784",
       "version_major": 2,
       "version_minor": 0
      },
      "text/plain": [
       "aebd3f18ec0bad450f684c1b03312c97.nc:   0%|          | 0.00/22.5k [00:00<?, ?B/s]"
      ]
     },
     "metadata": {},
     "output_type": "display_data"
    },
    {
     "name": "stdout",
     "output_type": "stream",
     "text": [
      "  -> 2022-03-01 a 2022-03-31\n"
     ]
    },
    {
     "name": "stderr",
     "output_type": "stream",
     "text": [
      "2025-09-25 12:37:14,664 INFO Request ID is f8b145b0-3060-4efb-bbc9-8dc32a318354\n",
      "2025-09-25 12:37:14,759 INFO status has been updated to accepted\n",
      "2025-09-25 12:37:28,339 INFO status has been updated to running\n",
      "2025-09-25 12:38:04,671 INFO status has been updated to successful\n"
     ]
    },
    {
     "data": {
      "application/vnd.jupyter.widget-view+json": {
       "model_id": "edde6213b1ea495d920e57768cafb82b",
       "version_major": 2,
       "version_minor": 0
      },
      "text/plain": [
       "42e80305d106629a06977038ffb6510b.zip:   0%|          | 0.00/45.6k [00:00<?, ?B/s]"
      ]
     },
     "metadata": {},
     "output_type": "display_data"
    },
    {
     "name": "stderr",
     "output_type": "stream",
     "text": [
      "2025-09-25 12:38:06,110 INFO Request ID is 3a91df67-6351-41d6-99e4-746d69d35a5e\n",
      "2025-09-25 12:38:06,193 INFO status has been updated to accepted\n",
      "2025-09-25 12:38:20,651 INFO status has been updated to running\n",
      "2025-09-25 12:38:57,081 INFO status has been updated to successful\n"
     ]
    },
    {
     "data": {
      "application/vnd.jupyter.widget-view+json": {
       "model_id": "4ff0949d55d043e19ea60394ae491720",
       "version_major": 2,
       "version_minor": 0
      },
      "text/plain": [
       "fbec4a8ca3caadc20e213cbaf07a670.nc:   0%|          | 0.00/22.5k [00:00<?, ?B/s]"
      ]
     },
     "metadata": {},
     "output_type": "display_data"
    },
    {
     "name": "stderr",
     "output_type": "stream",
     "text": [
      "2025-09-25 12:38:58,476 INFO Request ID is 459950a8-dab7-4b36-8f12-8e8e89f0f86e\n",
      "2025-09-25 12:38:58,544 INFO status has been updated to accepted\n",
      "2025-09-25 12:39:32,015 INFO status has been updated to running\n",
      "2025-09-25 12:39:49,200 INFO status has been updated to successful\n"
     ]
    },
    {
     "data": {
      "application/vnd.jupyter.widget-view+json": {
       "model_id": "d80bf29bce734261aa85ae60d512c3f4",
       "version_major": 2,
       "version_minor": 0
      },
      "text/plain": [
       "4da215da15d93939354da8d8e7bff7a8.nc:   0%|          | 0.00/22.5k [00:00<?, ?B/s]"
      ]
     },
     "metadata": {},
     "output_type": "display_data"
    },
    {
     "name": "stdout",
     "output_type": "stream",
     "text": [
      "  -> 2022-04-01 a 2022-04-30\n"
     ]
    },
    {
     "name": "stderr",
     "output_type": "stream",
     "text": [
      "2025-09-25 12:39:50,403 INFO Request ID is 2c59d7f4-0250-4265-8c2e-b4ddc655cc44\n",
      "2025-09-25 12:39:50,466 INFO status has been updated to accepted\n",
      "2025-09-25 12:40:04,143 INFO status has been updated to running\n",
      "2025-09-25 12:40:40,560 INFO status has been updated to successful\n"
     ]
    },
    {
     "data": {
      "application/vnd.jupyter.widget-view+json": {
       "model_id": "80a54bade7db421ebb52d686830f04c6",
       "version_major": 2,
       "version_minor": 0
      },
      "text/plain": [
       "1d1a312bb214bb69d707c3db57e03aa9.zip:   0%|          | 0.00/45.6k [00:00<?, ?B/s]"
      ]
     },
     "metadata": {},
     "output_type": "display_data"
    },
    {
     "name": "stderr",
     "output_type": "stream",
     "text": [
      "2025-09-25 12:40:41,998 INFO Request ID is a591d48d-9564-429a-a5ba-bfcb50bb9a23\n",
      "2025-09-25 12:40:42,079 INFO status has been updated to accepted\n",
      "2025-09-25 12:40:55,737 INFO status has been updated to running\n",
      "2025-09-25 12:41:32,178 INFO status has been updated to successful\n"
     ]
    },
    {
     "data": {
      "application/vnd.jupyter.widget-view+json": {
       "model_id": "f559eaed157c4364bb651293e7e0375c",
       "version_major": 2,
       "version_minor": 0
      },
      "text/plain": [
       "aad5e31fa79b9340b3dfcec364df42fe.nc:   0%|          | 0.00/22.5k [00:00<?, ?B/s]"
      ]
     },
     "metadata": {},
     "output_type": "display_data"
    },
    {
     "name": "stderr",
     "output_type": "stream",
     "text": [
      "2025-09-25 12:41:33,545 INFO Request ID is 6acb4b08-afae-4243-afa0-2d4f5d61e1fb\n",
      "2025-09-25 12:41:33,619 INFO status has been updated to accepted\n",
      "2025-09-25 12:41:47,170 INFO status has been updated to running\n",
      "2025-09-25 12:42:23,459 INFO status has been updated to successful\n"
     ]
    },
    {
     "data": {
      "application/vnd.jupyter.widget-view+json": {
       "model_id": "b6cf8710d6514f458133ccd4e22264da",
       "version_major": 2,
       "version_minor": 0
      },
      "text/plain": [
       "6ac5b1d5befe45a578ae52928c32d86b.nc:   0%|          | 0.00/22.5k [00:00<?, ?B/s]"
      ]
     },
     "metadata": {},
     "output_type": "display_data"
    },
    {
     "name": "stdout",
     "output_type": "stream",
     "text": [
      "  -> 2022-05-01 a 2022-05-31\n"
     ]
    },
    {
     "name": "stderr",
     "output_type": "stream",
     "text": [
      "2025-09-25 12:42:24,539 INFO Request ID is 781e3e17-9f0d-4dd6-902c-1ce9f0429e9e\n",
      "2025-09-25 12:42:24,927 INFO status has been updated to accepted\n",
      "2025-09-25 12:42:38,667 INFO status has been updated to running\n",
      "2025-09-25 12:43:14,979 INFO status has been updated to successful\n"
     ]
    },
    {
     "data": {
      "application/vnd.jupyter.widget-view+json": {
       "model_id": "dd7e18be0cec4919ac510e2f117e849b",
       "version_major": 2,
       "version_minor": 0
      },
      "text/plain": [
       "82c35549d2b89e44a68bf9301149ed48.zip:   0%|          | 0.00/45.6k [00:00<?, ?B/s]"
      ]
     },
     "metadata": {},
     "output_type": "display_data"
    },
    {
     "name": "stderr",
     "output_type": "stream",
     "text": [
      "2025-09-25 12:43:16,255 INFO Request ID is 1d27577a-e17a-45f8-9f0e-04999102e34a\n",
      "2025-09-25 12:43:16,350 INFO status has been updated to accepted\n",
      "2025-09-25 12:43:24,815 INFO status has been updated to running\n",
      "2025-09-25 12:44:06,263 INFO status has been updated to successful\n"
     ]
    },
    {
     "data": {
      "application/vnd.jupyter.widget-view+json": {
       "model_id": "dde018b93c634798a8a47f39659a645b",
       "version_major": 2,
       "version_minor": 0
      },
      "text/plain": [
       "ba060e95cea57f9198c81a8585b04877.nc:   0%|          | 0.00/22.5k [00:00<?, ?B/s]"
      ]
     },
     "metadata": {},
     "output_type": "display_data"
    },
    {
     "name": "stderr",
     "output_type": "stream",
     "text": [
      "2025-09-25 12:44:07,368 INFO Request ID is 47151eca-fbca-4bd7-9d66-17d811bb8402\n",
      "2025-09-25 12:44:07,440 INFO status has been updated to accepted\n",
      "2025-09-25 12:44:40,155 INFO status has been updated to successful\n"
     ]
    },
    {
     "data": {
      "application/vnd.jupyter.widget-view+json": {
       "model_id": "b5d883e1e04e42b5b06fd834d3e979bf",
       "version_major": 2,
       "version_minor": 0
      },
      "text/plain": [
       "97efbcef1534b063f38e6f715292b977.nc:   0%|          | 0.00/22.5k [00:00<?, ?B/s]"
      ]
     },
     "metadata": {},
     "output_type": "display_data"
    },
    {
     "name": "stdout",
     "output_type": "stream",
     "text": [
      "  -> 2022-06-01 a 2022-06-30\n"
     ]
    },
    {
     "name": "stderr",
     "output_type": "stream",
     "text": [
      "2025-09-25 12:44:41,302 INFO Request ID is 5db4fd26-4d58-422b-a71c-e314a0d0a875\n",
      "2025-09-25 12:44:41,498 INFO status has been updated to accepted\n",
      "2025-09-25 12:44:55,422 INFO status has been updated to running\n",
      "2025-09-25 12:45:14,718 INFO status has been updated to successful\n"
     ]
    },
    {
     "data": {
      "application/vnd.jupyter.widget-view+json": {
       "model_id": "3623e12b5b66432f934f990462fb4ac0",
       "version_major": 2,
       "version_minor": 0
      },
      "text/plain": [
       "3d70baadaa5ec2df04e0f38a93be6918.zip:   0%|          | 0.00/45.6k [00:00<?, ?B/s]"
      ]
     },
     "metadata": {},
     "output_type": "display_data"
    },
    {
     "name": "stderr",
     "output_type": "stream",
     "text": [
      "2025-09-25 12:45:15,896 INFO Request ID is ea341aa7-a0f5-4216-b1b0-7e8f15a7a180\n",
      "2025-09-25 12:45:15,996 INFO status has been updated to accepted\n",
      "2025-09-25 12:45:29,554 INFO status has been updated to running\n",
      "2025-09-25 12:45:48,823 INFO status has been updated to successful\n"
     ]
    },
    {
     "data": {
      "application/vnd.jupyter.widget-view+json": {
       "model_id": "bedd1703ed9443af9cc547453af7d87e",
       "version_major": 2,
       "version_minor": 0
      },
      "text/plain": [
       "afb4c8c712121b3ba2956508b872edb2.nc:   0%|          | 0.00/22.5k [00:00<?, ?B/s]"
      ]
     },
     "metadata": {},
     "output_type": "display_data"
    },
    {
     "name": "stderr",
     "output_type": "stream",
     "text": [
      "2025-09-25 12:45:50,306 INFO Request ID is 9f1898a7-9610-4424-8008-4dcbac9f0382\n",
      "2025-09-25 12:45:50,437 INFO status has been updated to accepted\n",
      "2025-09-25 12:46:11,882 INFO status has been updated to running\n",
      "2025-09-25 12:46:23,412 INFO status has been updated to successful\n"
     ]
    },
    {
     "data": {
      "application/vnd.jupyter.widget-view+json": {
       "model_id": "d23bad0c8b1d403bbdaa8a0287863379",
       "version_major": 2,
       "version_minor": 0
      },
      "text/plain": [
       "c4c96fa6b830654bed7d428b215741ac.nc:   0%|          | 0.00/22.5k [00:00<?, ?B/s]"
      ]
     },
     "metadata": {},
     "output_type": "display_data"
    },
    {
     "name": "stdout",
     "output_type": "stream",
     "text": [
      "  -> 2022-07-01 a 2022-07-31\n"
     ]
    },
    {
     "name": "stderr",
     "output_type": "stream",
     "text": [
      "2025-09-25 12:46:24,695 INFO Request ID is 427ecf16-813f-445b-84bb-3856e1c4e7b8\n",
      "2025-09-25 12:46:24,780 INFO status has been updated to accepted\n",
      "2025-09-25 12:46:38,712 INFO status has been updated to running\n",
      "2025-09-25 12:47:15,046 INFO status has been updated to successful\n"
     ]
    },
    {
     "data": {
      "application/vnd.jupyter.widget-view+json": {
       "model_id": "07656c175b6a47a0966d8165cf392e89",
       "version_major": 2,
       "version_minor": 0
      },
      "text/plain": [
       "6103b40f7232f26463bb232d0d30dae7.zip:   0%|          | 0.00/45.6k [00:00<?, ?B/s]"
      ]
     },
     "metadata": {},
     "output_type": "display_data"
    },
    {
     "name": "stderr",
     "output_type": "stream",
     "text": [
      "2025-09-25 12:47:17,011 INFO Request ID is a250e8d1-290a-4493-9d6f-3105a0cfa9f6\n",
      "2025-09-25 12:47:17,196 INFO status has been updated to accepted\n",
      "2025-09-25 12:47:30,829 INFO status has been updated to running\n",
      "2025-09-25 12:47:50,042 INFO status has been updated to successful\n"
     ]
    },
    {
     "data": {
      "application/vnd.jupyter.widget-view+json": {
       "model_id": "9a83b200619f450689f2fc4d0046f84c",
       "version_major": 2,
       "version_minor": 0
      },
      "text/plain": [
       "c9caf90d40deebdc6dac9633d4db483.nc:   0%|          | 0.00/22.5k [00:00<?, ?B/s]"
      ]
     },
     "metadata": {},
     "output_type": "display_data"
    },
    {
     "name": "stderr",
     "output_type": "stream",
     "text": [
      "2025-09-25 12:47:51,073 INFO Request ID is 42404221-9300-4de6-a459-4aaab2f03d46\n",
      "2025-09-25 12:47:51,147 INFO status has been updated to accepted\n",
      "2025-09-25 12:48:04,924 INFO status has been updated to running\n",
      "2025-09-25 12:48:12,597 INFO status has been updated to accepted\n",
      "2025-09-25 12:48:24,073 INFO status has been updated to successful\n"
     ]
    },
    {
     "data": {
      "application/vnd.jupyter.widget-view+json": {
       "model_id": "03e7207dc0bd4bab82a3307d044f6097",
       "version_major": 2,
       "version_minor": 0
      },
      "text/plain": [
       "8fd45924800470fb61d265ffa17dd33f.nc:   0%|          | 0.00/22.5k [00:00<?, ?B/s]"
      ]
     },
     "metadata": {},
     "output_type": "display_data"
    },
    {
     "name": "stdout",
     "output_type": "stream",
     "text": [
      "  -> 2022-08-01 a 2022-08-31\n"
     ]
    },
    {
     "name": "stderr",
     "output_type": "stream",
     "text": [
      "2025-09-25 12:48:25,456 INFO Request ID is 95a12908-8880-48e1-9175-b65c8294d5ba\n",
      "2025-09-25 12:48:25,554 INFO status has been updated to accepted\n",
      "2025-09-25 12:48:46,782 INFO status has been updated to running\n",
      "2025-09-25 12:49:15,456 INFO status has been updated to successful\n"
     ]
    },
    {
     "data": {
      "application/vnd.jupyter.widget-view+json": {
       "model_id": "73992927fa1e48e7a5659eebbb13a0bd",
       "version_major": 2,
       "version_minor": 0
      },
      "text/plain": [
       "d4a4c1cccc81db9e468c42d3bc7938d.zip:   0%|          | 0.00/45.6k [00:00<?, ?B/s]"
      ]
     },
     "metadata": {},
     "output_type": "display_data"
    },
    {
     "name": "stderr",
     "output_type": "stream",
     "text": [
      "2025-09-25 12:49:16,594 INFO Request ID is 5a9e24f3-238c-49e4-b773-3f1ae45f807e\n",
      "2025-09-25 12:49:16,660 INFO status has been updated to accepted\n",
      "2025-09-25 12:49:30,216 INFO status has been updated to running\n",
      "2025-09-25 12:49:37,907 INFO status has been updated to successful\n"
     ]
    },
    {
     "data": {
      "application/vnd.jupyter.widget-view+json": {
       "model_id": "bf092665ae464e1ea9e7f33e3c05d37f",
       "version_major": 2,
       "version_minor": 0
      },
      "text/plain": [
       "2397b76f7ead5b6ce2da12cbff42b942.nc:   0%|          | 0.00/22.5k [00:00<?, ?B/s]"
      ]
     },
     "metadata": {},
     "output_type": "display_data"
    },
    {
     "name": "stderr",
     "output_type": "stream",
     "text": [
      "2025-09-25 12:49:39,128 INFO Request ID is 113f563f-8529-4e2e-adc5-7b467b346932\n",
      "2025-09-25 12:49:39,242 INFO status has been updated to accepted\n",
      "2025-09-25 12:49:53,246 INFO status has been updated to running\n",
      "2025-09-25 12:50:12,396 INFO status has been updated to successful\n"
     ]
    },
    {
     "data": {
      "application/vnd.jupyter.widget-view+json": {
       "model_id": "12a419e699454a27898b742d4863b56c",
       "version_major": 2,
       "version_minor": 0
      },
      "text/plain": [
       "fdf6ed485a93b0e3ad011d2787c898f9.nc:   0%|          | 0.00/22.5k [00:00<?, ?B/s]"
      ]
     },
     "metadata": {},
     "output_type": "display_data"
    },
    {
     "name": "stdout",
     "output_type": "stream",
     "text": [
      "  -> 2022-09-01 a 2022-09-30\n"
     ]
    },
    {
     "name": "stderr",
     "output_type": "stream",
     "text": [
      "2025-09-25 12:50:13,612 INFO Request ID is 00b6fd69-c7f8-4e0f-bbde-a03f65539a3a\n",
      "2025-09-25 12:50:13,680 INFO status has been updated to accepted\n",
      "2025-09-25 12:50:27,185 INFO status has been updated to running\n",
      "2025-09-25 12:50:46,324 INFO status has been updated to successful\n"
     ]
    },
    {
     "data": {
      "application/vnd.jupyter.widget-view+json": {
       "model_id": "a5ecb0c195864b8597aa44d7ef423160",
       "version_major": 2,
       "version_minor": 0
      },
      "text/plain": [
       "cc11d3eff9128ccf14244251b56cfcef.zip:   0%|          | 0.00/45.6k [00:00<?, ?B/s]"
      ]
     },
     "metadata": {},
     "output_type": "display_data"
    },
    {
     "name": "stderr",
     "output_type": "stream",
     "text": [
      "2025-09-25 12:50:47,685 INFO Request ID is 767bb918-2ce2-4edd-91e1-55604b551e07\n",
      "2025-09-25 12:50:47,755 INFO status has been updated to accepted\n",
      "2025-09-25 12:51:21,081 INFO status has been updated to running\n",
      "2025-09-25 12:51:38,260 INFO status has been updated to successful\n"
     ]
    },
    {
     "data": {
      "application/vnd.jupyter.widget-view+json": {
       "model_id": "d6d1067af58a4d5492e66d187a6c0486",
       "version_major": 2,
       "version_minor": 0
      },
      "text/plain": [
       "1e0d3c4ce6b87bf38fc17280b55b6208.nc:   0%|          | 0.00/22.5k [00:00<?, ?B/s]"
      ]
     },
     "metadata": {},
     "output_type": "display_data"
    },
    {
     "name": "stderr",
     "output_type": "stream",
     "text": [
      "2025-09-25 12:51:39,571 INFO Request ID is dc592c99-9d17-4af5-9440-805a7bc0cb0c\n",
      "2025-09-25 12:51:39,656 INFO status has been updated to accepted\n",
      "2025-09-25 12:51:53,290 INFO status has been updated to running\n",
      "2025-09-25 12:52:55,632 INFO status has been updated to successful\n"
     ]
    },
    {
     "data": {
      "application/vnd.jupyter.widget-view+json": {
       "model_id": "f64aa97454ed45df9a9bedf530e54403",
       "version_major": 2,
       "version_minor": 0
      },
      "text/plain": [
       "7321abfc0be3381a4fc481996827676b.nc:   0%|          | 0.00/22.5k [00:00<?, ?B/s]"
      ]
     },
     "metadata": {},
     "output_type": "display_data"
    },
    {
     "name": "stdout",
     "output_type": "stream",
     "text": [
      "  -> 2022-10-01 a 2022-10-31\n"
     ]
    },
    {
     "name": "stderr",
     "output_type": "stream",
     "text": [
      "2025-09-25 12:52:56,830 INFO Request ID is 031a459f-18ea-402c-8889-4184beaf1231\n",
      "2025-09-25 12:52:56,959 INFO status has been updated to accepted\n",
      "2025-09-25 12:53:18,256 INFO status has been updated to running\n",
      "2025-09-25 12:53:46,969 INFO status has been updated to successful\n"
     ]
    },
    {
     "data": {
      "application/vnd.jupyter.widget-view+json": {
       "model_id": "b72e8dbb7d194fe4b50ceb52392b51e7",
       "version_major": 2,
       "version_minor": 0
      },
      "text/plain": [
       "64c29e136447045a132f493c739ad33b.zip:   0%|          | 0.00/45.6k [00:00<?, ?B/s]"
      ]
     },
     "metadata": {},
     "output_type": "display_data"
    },
    {
     "name": "stderr",
     "output_type": "stream",
     "text": [
      "2025-09-25 12:53:48,477 INFO Request ID is bb08cfab-f342-4bb0-bf2f-d66c64f4f15e\n",
      "2025-09-25 12:53:48,557 INFO status has been updated to accepted\n",
      "2025-09-25 12:54:38,600 INFO status has been updated to running\n",
      "2025-09-25 12:55:04,309 INFO status has been updated to successful\n"
     ]
    },
    {
     "data": {
      "application/vnd.jupyter.widget-view+json": {
       "model_id": "76b74e0ca3274aa8a9d35c38f854715f",
       "version_major": 2,
       "version_minor": 0
      },
      "text/plain": [
       "e053fa89d5fbcecc82f947e5381f9f25.nc:   0%|          | 0.00/22.5k [00:00<?, ?B/s]"
      ]
     },
     "metadata": {},
     "output_type": "display_data"
    },
    {
     "name": "stderr",
     "output_type": "stream",
     "text": [
      "2025-09-25 12:55:05,534 INFO Request ID is 22115168-5dd0-4da1-9b3a-25438a5c38fa\n",
      "2025-09-25 12:55:05,685 INFO status has been updated to accepted\n",
      "2025-09-25 12:55:14,312 INFO status has been updated to running\n",
      "2025-09-25 12:55:38,732 INFO status has been updated to successful\n"
     ]
    },
    {
     "data": {
      "application/vnd.jupyter.widget-view+json": {
       "model_id": "a04cfe62c3f34fe5a0bd12453b9085de",
       "version_major": 2,
       "version_minor": 0
      },
      "text/plain": [
       "f1cae199463c49e34babad301afb5c32.nc:   0%|          | 0.00/22.5k [00:00<?, ?B/s]"
      ]
     },
     "metadata": {},
     "output_type": "display_data"
    },
    {
     "name": "stdout",
     "output_type": "stream",
     "text": [
      "  -> 2022-11-01 a 2022-11-30\n"
     ]
    },
    {
     "name": "stderr",
     "output_type": "stream",
     "text": [
      "2025-09-25 12:55:40,221 INFO Request ID is 1c2aa87c-d4f1-462e-ad08-962c3780824d\n",
      "2025-09-25 12:55:40,312 INFO status has been updated to accepted\n",
      "2025-09-25 12:55:53,926 INFO status has been updated to running\n",
      "2025-09-25 12:56:30,268 INFO status has been updated to successful\n"
     ]
    },
    {
     "data": {
      "application/vnd.jupyter.widget-view+json": {
       "model_id": "108c1a81ceb34287ac1fb7a1b1aa1379",
       "version_major": 2,
       "version_minor": 0
      },
      "text/plain": [
       "b385e4905eab1ef43b6df3c9109019c0.zip:   0%|          | 0.00/45.6k [00:00<?, ?B/s]"
      ]
     },
     "metadata": {},
     "output_type": "display_data"
    },
    {
     "name": "stderr",
     "output_type": "stream",
     "text": [
      "2025-09-25 12:56:31,516 INFO Request ID is b9eadf05-ae6f-49fd-b1e2-520893dca604\n",
      "2025-09-25 12:56:31,581 INFO status has been updated to accepted\n",
      "2025-09-25 12:57:04,432 INFO status has been updated to running\n",
      "2025-09-25 12:57:21,580 INFO status has been updated to successful\n"
     ]
    },
    {
     "data": {
      "application/vnd.jupyter.widget-view+json": {
       "model_id": "26435dd306434857a3f0392ed00a43c2",
       "version_major": 2,
       "version_minor": 0
      },
      "text/plain": [
       "1ca46cb405458195e57537b75d4550d6.nc:   0%|          | 0.00/22.5k [00:00<?, ?B/s]"
      ]
     },
     "metadata": {},
     "output_type": "display_data"
    },
    {
     "name": "stderr",
     "output_type": "stream",
     "text": [
      "2025-09-25 12:57:22,706 INFO Request ID is 05e477c4-4c58-4026-bac9-32bfaaa8357a\n",
      "2025-09-25 12:57:22,786 INFO status has been updated to accepted\n",
      "2025-09-25 12:57:44,043 INFO status has been updated to running\n",
      "2025-09-25 12:57:55,666 INFO status has been updated to successful\n"
     ]
    },
    {
     "data": {
      "application/vnd.jupyter.widget-view+json": {
       "model_id": "cf5492b453184267b304ae6ad24154ba",
       "version_major": 2,
       "version_minor": 0
      },
      "text/plain": [
       "63e18a1327efbf72bba0b0c4f6f5953.nc:   0%|          | 0.00/22.5k [00:00<?, ?B/s]"
      ]
     },
     "metadata": {},
     "output_type": "display_data"
    },
    {
     "name": "stdout",
     "output_type": "stream",
     "text": [
      "  -> 2022-12-01 a 2022-12-31\n"
     ]
    },
    {
     "name": "stderr",
     "output_type": "stream",
     "text": [
      "2025-09-25 12:57:56,701 INFO Request ID is ede08511-1979-425a-a05c-3fc7f2c0bcff\n",
      "2025-09-25 12:57:56,765 INFO status has been updated to accepted\n",
      "2025-09-25 12:58:05,406 INFO status has been updated to running\n",
      "2025-09-25 12:58:46,884 INFO status has been updated to successful\n"
     ]
    },
    {
     "data": {
      "application/vnd.jupyter.widget-view+json": {
       "model_id": "3ce6e81a03a448a9ac8a54c796a991a5",
       "version_major": 2,
       "version_minor": 0
      },
      "text/plain": [
       "c8be8098dc65251e8794f2feea7bbd0c.zip:   0%|          | 0.00/45.6k [00:00<?, ?B/s]"
      ]
     },
     "metadata": {},
     "output_type": "display_data"
    },
    {
     "name": "stderr",
     "output_type": "stream",
     "text": [
      "2025-09-25 12:58:47,842 INFO Request ID is 1411ee68-9dfe-4d78-bc4f-25c4a1d73c53\n",
      "2025-09-25 12:58:47,933 INFO status has been updated to accepted\n",
      "2025-09-25 12:59:01,727 INFO status has been updated to running\n",
      "2025-09-25 12:59:20,889 INFO status has been updated to successful\n"
     ]
    },
    {
     "data": {
      "application/vnd.jupyter.widget-view+json": {
       "model_id": "5d6f4f70833b4efd8149e66eb0b35d37",
       "version_major": 2,
       "version_minor": 0
      },
      "text/plain": [
       "73cee589eb2113e74d7122fd1d4df2da.nc:   0%|          | 0.00/22.5k [00:00<?, ?B/s]"
      ]
     },
     "metadata": {},
     "output_type": "display_data"
    },
    {
     "name": "stderr",
     "output_type": "stream",
     "text": [
      "2025-09-25 12:59:22,234 INFO Request ID is 622583c5-64ef-44b1-b3cd-4926ffb5930e\n",
      "2025-09-25 12:59:22,304 INFO status has been updated to accepted\n",
      "2025-09-25 12:59:35,902 INFO status has been updated to running\n",
      "2025-09-25 12:59:55,367 INFO status has been updated to successful\n"
     ]
    },
    {
     "data": {
      "application/vnd.jupyter.widget-view+json": {
       "model_id": "27c7c517e4de45bb808f0c13cb584487",
       "version_major": 2,
       "version_minor": 0
      },
      "text/plain": [
       "d2523aac830cd3b7303f0e31aec6aacc.nc:   0%|          | 0.00/22.5k [00:00<?, ?B/s]"
      ]
     },
     "metadata": {},
     "output_type": "display_data"
    },
    {
     "name": "stdout",
     "output_type": "stream",
     "text": [
      "✔ Insertadas/actualizadas 2190 filas en climate_wxt2 (DB: C:\\Users\\Nainh\\Proton Drive\\nainho1306\\My files\\Licitacion\\Plataforma prevencion Dengue\\backend\\data\\mi_base_de_datos5.db)\n"
     ]
    }
   ],
   "source": [
    "\n",
    "def ingest_from_zip(table_name, download_path, kind):\n",
    "    extracted_paths = extract_nc_members(download_path) if is_container(download_path) else [download_path]\n",
    "    data_arrays = {}\n",
    "    time_objs = latitudes = longitudes = None\n",
    "    time_var = lat_var = lon_var = None\n",
    "\n",
    "    for nc_path in extracted_paths:\n",
    "        ds = Dataset(nc_path)\n",
    "        if time_objs is None:\n",
    "            time_var = next(v for v in ds.variables if \"time\" in v.lower())\n",
    "            lat_var  = next(v for v in ds.variables if \"lat\"  in v.lower())\n",
    "            lon_var  = next(v for v in ds.variables if \"lon\"  in v.lower())\n",
    "            times = ds.variables[time_var][:]\n",
    "            units = ds.variables[time_var].units\n",
    "            cal   = getattr(ds.variables[time_var], 'calendar', 'standard')\n",
    "            try:\n",
    "                time_objs = num2date(times, units, calendar=cal, only_use_cftime_datetimes=False)\n",
    "            except TypeError:\n",
    "                time_objs = num2date(times, units, calendar=cal)\n",
    "            latitudes  = ds.variables[lat_var][:]\n",
    "            longitudes = ds.variables[lon_var][:]\n",
    "        for v in ds.variables:\n",
    "            if v in (time_var, lat_var, lon_var, \"number\"): continue\n",
    "            if v not in data_arrays:\n",
    "                data_arrays[v] = ds.variables[v][:]\n",
    "        ds.close()\n",
    "\n",
    "    def pick(*names):\n",
    "        for n in names:\n",
    "            a = data_arrays.get(n)\n",
    "            if a is not None: return a\n",
    "        return None\n",
    "\n",
    "    A_t2m = pick('t2m', '2m_temperature')\n",
    "    A_u10 = pick('u10', '10m_u_component_of_wind')\n",
    "    A_v10 = pick('v10', '10m_v_component_of_wind')\n",
    "    A_ws10 = np.sqrt(A_u10**2 + A_v10**2) if (A_u10 is not None and A_v10 is not None) else None\n",
    "\n",
    "    sql = f\"\"\"\n",
    "    INSERT INTO {table_name}\n",
    "      (date, latitude, longitude, t2m_min, t2m_max, ws10)\n",
    "    VALUES (?, ?, ?, ?, ?, ?)\n",
    "    ON CONFLICT(date, latitude, longitude) DO UPDATE SET\n",
    "      t2m_min = CASE WHEN excluded.t2m_min IS NOT NULL AND excluded.t2m_min = excluded.t2m_min\n",
    "                     THEN excluded.t2m_min ELSE {table_name}.t2m_min END,\n",
    "      t2m_max = CASE WHEN excluded.t2m_max IS NOT NULL AND excluded.t2m_max = excluded.t2m_max\n",
    "                     THEN excluded.t2m_max ELSE {table_name}.t2m_max END,\n",
    "      ws10    = CASE WHEN excluded.ws10    IS NOT NULL AND excluded.ws10    = excluded.ws10\n",
    "                     THEN excluded.ws10    ELSE {table_name}.ws10 END\n",
    "    \"\"\"\n",
    "\n",
    "    cnt = 0\n",
    "    for ti, dt in enumerate(time_objs):\n",
    "        date_str = date_to_str(dt)\n",
    "        for yi, lat in enumerate(latitudes):\n",
    "            latf = round(float(lat), LATLON_DECIMALS)\n",
    "            for xi, lon in enumerate(longitudes):\n",
    "                lonf = round(float(lon), LATLON_DECIMALS)\n",
    "                t2m_min = to_sql(A_t2m[ti, yi, xi]) if (kind == \"tmin\" and A_t2m is not None) else None\n",
    "                t2m_max = to_sql(A_t2m[ti, yi, xi]) if (kind == \"tmax\" and A_t2m is not None) else None\n",
    "                ws10    = to_sql(A_ws10[ti, yi, xi]) if (kind == \"mean\" and A_ws10 is not None) else None\n",
    "                cur.execute(sql, (date_str, latf, lonf, t2m_min, t2m_max, ws10))\n",
    "                cnt += 1\n",
    "    conn.commit()\n",
    "\n",
    "    for p in extracted_paths:\n",
    "        if p != download_path:\n",
    "            try: os.remove(p)\n",
    "            except OSError: pass\n",
    "    return cnt\n",
    "\n",
    "# requests (mean->wind; tmin; tmax)\n",
    "V_WIND = ['10m_u_component_of_wind', '10m_v_component_of_wind']\n",
    "V_T    = ['2m_temperature']\n",
    "REQS = [\n",
    "    (\"mean\", \"daily_mean\",    V_WIND),\n",
    "    (\"tmin\", \"daily_minimum\", V_T),\n",
    "    (\"tmax\", \"daily_maximum\", V_T),\n",
    "]\n",
    "\n",
    "# chunk mensual\n",
    "def iter_month_chunks(s, e):\n",
    "    s = pd.to_datetime(s).normalize()\n",
    "    e = pd.to_datetime(e).normalize()\n",
    "    cur = s\n",
    "    while cur <= e:\n",
    "        end_m = (cur + pd.offsets.MonthEnd(0))\n",
    "        yield cur, min(e, end_m)\n",
    "        cur = end_m + pd.Timedelta(days=1)\n",
    "\n",
    "def ymd_lists(s, e):\n",
    "    d = pd.date_range(s, e, freq=\"D\")\n",
    "    years  = sorted({str(x.year)      for x in d})\n",
    "    months = sorted({f\"{x.month:02d}\" for x in d})\n",
    "    days   = sorted({f\"{x.day:02d}\"   for x in d})\n",
    "    return years, months, days\n",
    "\n",
    "# ejecutar por chunks\n",
    "total = 0\n",
    "print(f\"Procesando por meses de {start_} a {end_}…\")\n",
    "for cs, ce in iter_month_chunks(start, end):\n",
    "    years, months, days = ymd_lists(cs, ce)\n",
    "    print(f\"  -> {cs.date()} a {ce.date()}\")\n",
    "    for kind, stat, variables in REQS:\n",
    "        out_path = os.path.join(TMP_DIR, f\"{kind}_{cs:%Y%m%d}_{ce:%Y%m%d}.nc\")\n",
    "        c.retrieve(\n",
    "            'derived-era5-single-levels-daily-statistics',\n",
    "            {\n",
    "                'product_type': 'reanalysis',\n",
    "                'format': 'netcdf',\n",
    "                'variable': variables,\n",
    "                'year': years,\n",
    "                'month': months,\n",
    "                'day': days,\n",
    "                'daily_statistic': stat,\n",
    "                'frequency': '6_hourly',\n",
    "                'time_zone': 'utc+00:00',\n",
    "                'area': AREA,\n",
    "            },\n",
    "            out_path\n",
    "        )\n",
    "        total += ingest_from_zip(TABLE, out_path, kind)\n",
    "        try: os.remove(out_path)\n",
    "        except OSError: pass\n",
    "\n",
    "print(f\"✔ Insertadas/actualizadas {total} filas en {TABLE} (DB: {DB_PATH})\")\n",
    "conn.close()\n"
   ]
  },
  {
   "cell_type": "code",
   "execution_count": 10,
   "id": "fe5ae1c6",
   "metadata": {},
   "outputs": [
    {
     "data": {
      "text/plain": [
       "array(['2021-01-01', '2021-01-02', '2021-01-03', ..., '2025-08-26',\n",
       "       '2025-08-27', '2025-08-28'], shape=(1701,), dtype=object)"
      ]
     },
     "execution_count": 10,
     "metadata": {},
     "output_type": "execute_result"
    }
   ],
   "source": [
    "\n",
    "# Conectar a la base\n",
    "conn = sqlite3.connect(DB_PATH)\n",
    "\n",
    "# Leer primeros 20 registros ordenados por fecha\n",
    "query = '''\n",
    "SELECT *\n",
    "FROM climate_wxt2\n",
    "ORDER BY date ASC\n",
    "'''\n",
    "\n",
    "df_head = pd.read_sql_query(query, conn)\n",
    "conn.close()\n",
    "\n",
    "df_head[\"date\"].unique()\n"
   ]
  },
  {
   "cell_type": "code",
   "execution_count": 11,
   "id": "67658492",
   "metadata": {},
   "outputs": [
    {
     "data": {
      "text/html": [
       "<div>\n",
       "<style scoped>\n",
       "    .dataframe tbody tr th:only-of-type {\n",
       "        vertical-align: middle;\n",
       "    }\n",
       "\n",
       "    .dataframe tbody tr th {\n",
       "        vertical-align: top;\n",
       "    }\n",
       "\n",
       "    .dataframe thead th {\n",
       "        text-align: right;\n",
       "    }\n",
       "</style>\n",
       "<table border=\"1\" class=\"dataframe\">\n",
       "  <thead>\n",
       "    <tr style=\"text-align: right;\">\n",
       "      <th></th>\n",
       "      <th>date</th>\n",
       "      <th>latitude</th>\n",
       "      <th>longitude</th>\n",
       "      <th>t2m_min</th>\n",
       "      <th>t2m_max</th>\n",
       "      <th>ws10</th>\n",
       "    </tr>\n",
       "  </thead>\n",
       "  <tbody>\n",
       "    <tr>\n",
       "      <th>0</th>\n",
       "      <td>2025-08-28</td>\n",
       "      <td>-32.0</td>\n",
       "      <td>-61.00</td>\n",
       "      <td>283.687927</td>\n",
       "      <td>297.152588</td>\n",
       "      <td>2.464709</td>\n",
       "    </tr>\n",
       "    <tr>\n",
       "      <th>1</th>\n",
       "      <td>2025-08-28</td>\n",
       "      <td>-32.0</td>\n",
       "      <td>-61.25</td>\n",
       "      <td>282.680115</td>\n",
       "      <td>297.211182</td>\n",
       "      <td>2.532038</td>\n",
       "    </tr>\n",
       "    <tr>\n",
       "      <th>2</th>\n",
       "      <td>2025-08-28</td>\n",
       "      <td>-32.0</td>\n",
       "      <td>-61.50</td>\n",
       "      <td>282.285583</td>\n",
       "      <td>297.222900</td>\n",
       "      <td>2.645121</td>\n",
       "    </tr>\n",
       "    <tr>\n",
       "      <th>3</th>\n",
       "      <td>2025-08-28</td>\n",
       "      <td>-32.0</td>\n",
       "      <td>-61.75</td>\n",
       "      <td>282.758240</td>\n",
       "      <td>297.195557</td>\n",
       "      <td>2.797000</td>\n",
       "    </tr>\n",
       "    <tr>\n",
       "      <th>4</th>\n",
       "      <td>2025-08-28</td>\n",
       "      <td>-32.0</td>\n",
       "      <td>-62.00</td>\n",
       "      <td>282.887146</td>\n",
       "      <td>297.533447</td>\n",
       "      <td>2.818601</td>\n",
       "    </tr>\n",
       "    <tr>\n",
       "      <th>...</th>\n",
       "      <td>...</td>\n",
       "      <td>...</td>\n",
       "      <td>...</td>\n",
       "      <td>...</td>\n",
       "      <td>...</td>\n",
       "      <td>...</td>\n",
       "    </tr>\n",
       "    <tr>\n",
       "      <th>44420</th>\n",
       "      <td>2021-01-05</td>\n",
       "      <td>-33.0</td>\n",
       "      <td>-63.25</td>\n",
       "      <td>293.129883</td>\n",
       "      <td>300.813232</td>\n",
       "      <td>4.032999</td>\n",
       "    </tr>\n",
       "    <tr>\n",
       "      <th>44421</th>\n",
       "      <td>2021-01-04</td>\n",
       "      <td>-33.0</td>\n",
       "      <td>-63.25</td>\n",
       "      <td>293.124023</td>\n",
       "      <td>305.167480</td>\n",
       "      <td>0.203458</td>\n",
       "    </tr>\n",
       "    <tr>\n",
       "      <th>44422</th>\n",
       "      <td>2021-01-03</td>\n",
       "      <td>-33.0</td>\n",
       "      <td>-63.25</td>\n",
       "      <td>293.963867</td>\n",
       "      <td>300.237061</td>\n",
       "      <td>2.242227</td>\n",
       "    </tr>\n",
       "    <tr>\n",
       "      <th>44423</th>\n",
       "      <td>2021-01-02</td>\n",
       "      <td>-33.0</td>\n",
       "      <td>-63.25</td>\n",
       "      <td>293.717285</td>\n",
       "      <td>306.614746</td>\n",
       "      <td>3.978747</td>\n",
       "    </tr>\n",
       "    <tr>\n",
       "      <th>44424</th>\n",
       "      <td>2021-01-01</td>\n",
       "      <td>-33.0</td>\n",
       "      <td>-63.25</td>\n",
       "      <td>290.747803</td>\n",
       "      <td>304.718506</td>\n",
       "      <td>3.565103</td>\n",
       "    </tr>\n",
       "  </tbody>\n",
       "</table>\n",
       "<p>44425 rows × 6 columns</p>\n",
       "</div>"
      ],
      "text/plain": [
       "             date  latitude  longitude     t2m_min     t2m_max      ws10\n",
       "0      2025-08-28     -32.0     -61.00  283.687927  297.152588  2.464709\n",
       "1      2025-08-28     -32.0     -61.25  282.680115  297.211182  2.532038\n",
       "2      2025-08-28     -32.0     -61.50  282.285583  297.222900  2.645121\n",
       "3      2025-08-28     -32.0     -61.75  282.758240  297.195557  2.797000\n",
       "4      2025-08-28     -32.0     -62.00  282.887146  297.533447  2.818601\n",
       "...           ...       ...        ...         ...         ...       ...\n",
       "44420  2021-01-05     -33.0     -63.25  293.129883  300.813232  4.032999\n",
       "44421  2021-01-04     -33.0     -63.25  293.124023  305.167480  0.203458\n",
       "44422  2021-01-03     -33.0     -63.25  293.963867  300.237061  2.242227\n",
       "44423  2021-01-02     -33.0     -63.25  293.717285  306.614746  3.978747\n",
       "44424  2021-01-01     -33.0     -63.25  290.747803  304.718506  3.565103\n",
       "\n",
       "[44425 rows x 6 columns]"
      ]
     },
     "metadata": {},
     "output_type": "display_data"
    },
    {
     "data": {
      "text/plain": [
       "<function Connection.close()>"
      ]
     },
     "execution_count": 11,
     "metadata": {},
     "output_type": "execute_result"
    }
   ],
   "source": [
    "import sqlite3\n",
    "import pandas as pd\n",
    "\n",
    "\n",
    "conn = sqlite3.connect(DB_PATH)\n",
    "\n",
    "query = \"\"\"\n",
    "SELECT *\n",
    "FROM climate_wxt2\n",
    "ORDER BY date DESC;\n",
    "\"\"\"\n",
    "df = pd.read_sql(query, conn)\n",
    "\n",
    "display(df)   # si usas Jupyter\n",
    "conn.close"
   ]
  },
  {
   "cell_type": "code",
   "execution_count": 12,
   "id": "133172ba",
   "metadata": {},
   "outputs": [
    {
     "data": {
      "text/html": [
       "<div>\n",
       "<style scoped>\n",
       "    .dataframe tbody tr th:only-of-type {\n",
       "        vertical-align: middle;\n",
       "    }\n",
       "\n",
       "    .dataframe tbody tr th {\n",
       "        vertical-align: top;\n",
       "    }\n",
       "\n",
       "    .dataframe thead th {\n",
       "        text-align: right;\n",
       "    }\n",
       "</style>\n",
       "<table border=\"1\" class=\"dataframe\">\n",
       "  <thead>\n",
       "    <tr style=\"text-align: right;\">\n",
       "      <th></th>\n",
       "      <th>date</th>\n",
       "      <th>latitude</th>\n",
       "      <th>longitude</th>\n",
       "      <th>t2m</th>\n",
       "      <th>d2m</th>\n",
       "      <th>tp</th>\n",
       "      <th>t2m_min</th>\n",
       "      <th>t2m_max</th>\n",
       "      <th>wind_speed</th>\n",
       "      <th>ws10</th>\n",
       "    </tr>\n",
       "  </thead>\n",
       "  <tbody>\n",
       "    <tr>\n",
       "      <th>0</th>\n",
       "      <td>2023-01-01</td>\n",
       "      <td>-33.0</td>\n",
       "      <td>-63.00</td>\n",
       "      <td>296.222351</td>\n",
       "      <td>291.317322</td>\n",
       "      <td>0.000448</td>\n",
       "      <td>292.111572</td>\n",
       "      <td>301.740601</td>\n",
       "      <td>None</td>\n",
       "      <td>2.047017</td>\n",
       "    </tr>\n",
       "    <tr>\n",
       "      <th>1</th>\n",
       "      <td>2023-01-01</td>\n",
       "      <td>-33.0</td>\n",
       "      <td>-62.75</td>\n",
       "      <td>296.385437</td>\n",
       "      <td>290.895935</td>\n",
       "      <td>0.000464</td>\n",
       "      <td>292.195557</td>\n",
       "      <td>302.031616</td>\n",
       "      <td>None</td>\n",
       "      <td>1.994279</td>\n",
       "    </tr>\n",
       "    <tr>\n",
       "      <th>2</th>\n",
       "      <td>2023-01-01</td>\n",
       "      <td>-33.0</td>\n",
       "      <td>-62.50</td>\n",
       "      <td>296.388855</td>\n",
       "      <td>290.684509</td>\n",
       "      <td>0.000487</td>\n",
       "      <td>292.150635</td>\n",
       "      <td>301.816772</td>\n",
       "      <td>None</td>\n",
       "      <td>1.910873</td>\n",
       "    </tr>\n",
       "    <tr>\n",
       "      <th>3</th>\n",
       "      <td>2023-01-01</td>\n",
       "      <td>-33.0</td>\n",
       "      <td>-62.25</td>\n",
       "      <td>296.367371</td>\n",
       "      <td>290.656189</td>\n",
       "      <td>0.000407</td>\n",
       "      <td>292.385010</td>\n",
       "      <td>301.488647</td>\n",
       "      <td>None</td>\n",
       "      <td>1.794032</td>\n",
       "    </tr>\n",
       "    <tr>\n",
       "      <th>4</th>\n",
       "      <td>2023-01-01</td>\n",
       "      <td>-33.0</td>\n",
       "      <td>-62.00</td>\n",
       "      <td>296.280457</td>\n",
       "      <td>290.852478</td>\n",
       "      <td>0.000307</td>\n",
       "      <td>292.685791</td>\n",
       "      <td>301.119507</td>\n",
       "      <td>None</td>\n",
       "      <td>1.605475</td>\n",
       "    </tr>\n",
       "    <tr>\n",
       "      <th>...</th>\n",
       "      <td>...</td>\n",
       "      <td>...</td>\n",
       "      <td>...</td>\n",
       "      <td>...</td>\n",
       "      <td>...</td>\n",
       "      <td>...</td>\n",
       "      <td>...</td>\n",
       "      <td>...</td>\n",
       "      <td>...</td>\n",
       "      <td>...</td>\n",
       "    </tr>\n",
       "    <tr>\n",
       "      <th>42305</th>\n",
       "      <td>2025-08-28</td>\n",
       "      <td>-32.0</td>\n",
       "      <td>-62.00</td>\n",
       "      <td>288.465057</td>\n",
       "      <td>280.686890</td>\n",
       "      <td>0.000000</td>\n",
       "      <td>282.887146</td>\n",
       "      <td>297.533447</td>\n",
       "      <td>None</td>\n",
       "      <td>2.818601</td>\n",
       "    </tr>\n",
       "    <tr>\n",
       "      <th>42306</th>\n",
       "      <td>2025-08-28</td>\n",
       "      <td>-32.0</td>\n",
       "      <td>-61.75</td>\n",
       "      <td>288.343475</td>\n",
       "      <td>280.871460</td>\n",
       "      <td>0.000000</td>\n",
       "      <td>282.758240</td>\n",
       "      <td>297.195557</td>\n",
       "      <td>None</td>\n",
       "      <td>2.797000</td>\n",
       "    </tr>\n",
       "    <tr>\n",
       "      <th>42307</th>\n",
       "      <td>2025-08-28</td>\n",
       "      <td>-32.0</td>\n",
       "      <td>-61.50</td>\n",
       "      <td>288.132050</td>\n",
       "      <td>281.157104</td>\n",
       "      <td>0.000000</td>\n",
       "      <td>282.285583</td>\n",
       "      <td>297.222900</td>\n",
       "      <td>None</td>\n",
       "      <td>2.645121</td>\n",
       "    </tr>\n",
       "    <tr>\n",
       "      <th>42308</th>\n",
       "      <td>2025-08-28</td>\n",
       "      <td>-32.0</td>\n",
       "      <td>-61.25</td>\n",
       "      <td>288.270721</td>\n",
       "      <td>281.509644</td>\n",
       "      <td>0.000000</td>\n",
       "      <td>282.680115</td>\n",
       "      <td>297.211182</td>\n",
       "      <td>None</td>\n",
       "      <td>2.532038</td>\n",
       "    </tr>\n",
       "    <tr>\n",
       "      <th>42309</th>\n",
       "      <td>2025-08-28</td>\n",
       "      <td>-32.0</td>\n",
       "      <td>-61.00</td>\n",
       "      <td>288.626678</td>\n",
       "      <td>282.159546</td>\n",
       "      <td>0.000000</td>\n",
       "      <td>283.687927</td>\n",
       "      <td>297.152588</td>\n",
       "      <td>None</td>\n",
       "      <td>2.464709</td>\n",
       "    </tr>\n",
       "  </tbody>\n",
       "</table>\n",
       "<p>42310 rows × 10 columns</p>\n",
       "</div>"
      ],
      "text/plain": [
       "             date  latitude  longitude         t2m         d2m        tp  \\\n",
       "0      2023-01-01     -33.0     -63.00  296.222351  291.317322  0.000448   \n",
       "1      2023-01-01     -33.0     -62.75  296.385437  290.895935  0.000464   \n",
       "2      2023-01-01     -33.0     -62.50  296.388855  290.684509  0.000487   \n",
       "3      2023-01-01     -33.0     -62.25  296.367371  290.656189  0.000407   \n",
       "4      2023-01-01     -33.0     -62.00  296.280457  290.852478  0.000307   \n",
       "...           ...       ...        ...         ...         ...       ...   \n",
       "42305  2025-08-28     -32.0     -62.00  288.465057  280.686890  0.000000   \n",
       "42306  2025-08-28     -32.0     -61.75  288.343475  280.871460  0.000000   \n",
       "42307  2025-08-28     -32.0     -61.50  288.132050  281.157104  0.000000   \n",
       "42308  2025-08-28     -32.0     -61.25  288.270721  281.509644  0.000000   \n",
       "42309  2025-08-28     -32.0     -61.00  288.626678  282.159546  0.000000   \n",
       "\n",
       "          t2m_min     t2m_max wind_speed      ws10  \n",
       "0      292.111572  301.740601       None  2.047017  \n",
       "1      292.195557  302.031616       None  1.994279  \n",
       "2      292.150635  301.816772       None  1.910873  \n",
       "3      292.385010  301.488647       None  1.794032  \n",
       "4      292.685791  301.119507       None  1.605475  \n",
       "...           ...         ...        ...       ...  \n",
       "42305  282.887146  297.533447       None  2.818601  \n",
       "42306  282.758240  297.195557       None  2.797000  \n",
       "42307  282.285583  297.222900       None  2.645121  \n",
       "42308  282.680115  297.211182       None  2.532038  \n",
       "42309  283.687927  297.152588       None  2.464709  \n",
       "\n",
       "[42310 rows x 10 columns]"
      ]
     },
     "execution_count": 12,
     "metadata": {},
     "output_type": "execute_result"
    }
   ],
   "source": [
    "from pathlib import Path\n",
    "import sqlite3\n",
    "BASE_DIR = Path().resolve()  \n",
    "\n",
    "DB_PATH = BASE_DIR.parent / \"backend\" / \"data\" / \"mi_base_de_datos5.db\"\n",
    "\n",
    "conn = sqlite3.connect(DB_PATH)\n",
    "\n",
    "# 2) Lée los últimos 20 registros (ordenados por fecha decreciente)\n",
    "df_clima = pd.read_sql_query(\"\"\"\n",
    "    SELECT *\n",
    "      FROM climate_test\n",
    "     ORDER BY date\n",
    "\"\"\", conn)\n",
    "\n",
    "conn.close()\n",
    "df_clima\n"
   ]
  },
  {
   "cell_type": "code",
   "execution_count": 13,
   "id": "67532cfd",
   "metadata": {},
   "outputs": [],
   "source": [
    "DB_PATH = BASE_DIR.parent / \"backend\" / \"data\" / \"mi_base_de_datos5.db\"\n",
    "\n",
    "conn = sqlite3.connect(DB_PATH)\n",
    "\n",
    "cur = conn.cursor()\n",
    "cur.executescript(\"\"\"\n",
    "CREATE INDEX IF NOT EXISTS idx_ct_dll  ON climate_test(date, latitude, longitude);\n",
    "CREATE INDEX IF NOT EXISTS idx_wxt_dll ON climate_wxt2(date, latitude, longitude);\n",
    "\"\"\")\n",
    "\n",
    "# update: reemplaza solo con valores no nulos de climate_wxt\n",
    "cur.executescript(\"\"\"\n",
    "UPDATE climate_test AS t\n",
    "SET\n",
    "  t2m_min = COALESCE((\n",
    "      SELECT w.t2m_min\n",
    "      FROM climate_wxt2 w\n",
    "      WHERE w.date = t.date\n",
    "        AND w.latitude  = t.latitude\n",
    "        AND w.longitude = t.longitude\n",
    "  ), t.t2m_min),\n",
    "  t2m_max = COALESCE((\n",
    "      SELECT w.t2m_max\n",
    "      FROM climate_wxt2 w\n",
    "      WHERE w.date = t.date\n",
    "        AND w.latitude  = t.latitude\n",
    "        AND w.longitude = t.longitude\n",
    "  ), t.t2m_max),\n",
    "  ws10 = COALESCE((\n",
    "      SELECT w.ws10\n",
    "      FROM climate_wxt2 w\n",
    "      WHERE w.date = t.date\n",
    "        AND w.latitude  = t.latitude\n",
    "        AND w.longitude = t.longitude\n",
    "  ), t.ws10)\n",
    "WHERE EXISTS (\n",
    "  SELECT 1 FROM climate_wxt2 w\n",
    "  WHERE w.date = t.date\n",
    "    AND w.latitude  = t.latitude\n",
    "    AND w.longitude = t.longitude\n",
    ");\n",
    "\"\"\")\n",
    "conn.commit()\n"
   ]
  },
  {
   "cell_type": "code",
   "execution_count": 3,
   "id": "a1384609",
   "metadata": {},
   "outputs": [
    {
     "name": "stderr",
     "output_type": "stream",
     "text": [
      "2025-09-25 13:16:11,184 INFO [2025-09-03T00:00:00] To improve our C3S service, we need to hear from you! Please complete this very short [survey](https://confluence.ecmwf.int/x/E7uBEQ/). Thank you.\n",
      "2025-09-25 13:16:11,185 INFO [2024-09-26T00:00:00] Watch our [Forum](https://forum.ecmwf.int/) for Announcements, news and other discussed topics.\n",
      "2025-09-25 13:16:11,402 INFO Request ID is 3781cfd3-7d3d-40b9-90cb-b2091584f2b1\n",
      "2025-09-25 13:16:11,490 INFO status has been updated to accepted\n",
      "2025-09-25 13:16:25,333 INFO status has been updated to running\n"
     ]
    },
    {
     "ename": "KeyboardInterrupt",
     "evalue": "",
     "output_type": "error",
     "traceback": [
      "\u001b[31m---------------------------------------------------------------------------\u001b[39m",
      "\u001b[31mKeyboardInterrupt\u001b[39m                         Traceback (most recent call last)",
      "\u001b[36mCell\u001b[39m\u001b[36m \u001b[39m\u001b[32mIn[3]\u001b[39m\u001b[32m, line 12\u001b[39m\n\u001b[32m      9\u001b[39m \u001b[38;5;66;03m# bbox = [N, W, S, E] en grados; ajusta a tu zona\u001b[39;00m\n\u001b[32m     10\u001b[39m BBOX = [-\u001b[32m31.9\u001b[39m, -\u001b[32m63.5\u001b[39m, -\u001b[32m32.6\u001b[39m, -\u001b[32m63.0\u001b[39m]  \u001b[38;5;66;03m# aprox VM y alrededores\u001b[39;00m\n\u001b[32m---> \u001b[39m\u001b[32m12\u001b[39m c.retrieve(\n\u001b[32m     13\u001b[39m     \u001b[33m'\u001b[39m\u001b[33mreanalysis-era5-land\u001b[39m\u001b[33m'\u001b[39m,\n\u001b[32m     14\u001b[39m     {\n\u001b[32m     15\u001b[39m         \u001b[33m'\u001b[39m\u001b[33mvariable\u001b[39m\u001b[33m'\u001b[39m: [\n\u001b[32m     16\u001b[39m             \u001b[33m'\u001b[39m\u001b[33m2m_temperature\u001b[39m\u001b[33m'\u001b[39m,\u001b[33m'\u001b[39m\u001b[33m2m_dewpoint_temperature\u001b[39m\u001b[33m'\u001b[39m,\n\u001b[32m     17\u001b[39m             \u001b[33m'\u001b[39m\u001b[33mtotal_precipitation\u001b[39m\u001b[33m'\u001b[39m,\u001b[33m'\u001b[39m\u001b[33m10m_u_component_of_wind\u001b[39m\u001b[33m'\u001b[39m,\u001b[33m'\u001b[39m\u001b[33m10m_v_component_of_wind\u001b[39m\u001b[33m'\u001b[39m\n\u001b[32m     18\u001b[39m         ],\n\u001b[32m     19\u001b[39m         \u001b[33m'\u001b[39m\u001b[33myear\u001b[39m\u001b[33m'\u001b[39m: [\u001b[33m'\u001b[39m\u001b[33m2025\u001b[39m\u001b[33m'\u001b[39m],     \u001b[38;5;66;03m# o un rango\u001b[39;00m\n\u001b[32m     20\u001b[39m         \u001b[33m'\u001b[39m\u001b[33mmonth\u001b[39m\u001b[33m'\u001b[39m: [\u001b[33m'\u001b[39m\u001b[33m01\u001b[39m\u001b[33m'\u001b[39m],\n\u001b[32m     21\u001b[39m         \u001b[33m'\u001b[39m\u001b[33mday\u001b[39m\u001b[33m'\u001b[39m: [\u001b[33mf\u001b[39m\u001b[33m'\u001b[39m\u001b[38;5;132;01m{\u001b[39;00md\u001b[38;5;132;01m:\u001b[39;00m\u001b[33m02d\u001b[39m\u001b[38;5;132;01m}\u001b[39;00m\u001b[33m'\u001b[39m \u001b[38;5;28;01mfor\u001b[39;00m d \u001b[38;5;129;01min\u001b[39;00m \u001b[38;5;28mrange\u001b[39m(\u001b[32m1\u001b[39m,\u001b[32m32\u001b[39m)],\n\u001b[32m     22\u001b[39m         \u001b[33m'\u001b[39m\u001b[33mtime\u001b[39m\u001b[33m'\u001b[39m: [\u001b[33mf\u001b[39m\u001b[33m'\u001b[39m\u001b[38;5;132;01m{\u001b[39;00mh\u001b[38;5;132;01m:\u001b[39;00m\u001b[33m02d\u001b[39m\u001b[38;5;132;01m}\u001b[39;00m\u001b[33m:00\u001b[39m\u001b[33m'\u001b[39m \u001b[38;5;28;01mfor\u001b[39;00m h \u001b[38;5;129;01min\u001b[39;00m \u001b[38;5;28mrange\u001b[39m(\u001b[32m24\u001b[39m)],  \u001b[38;5;66;03m# horario\u001b[39;00m\n\u001b[32m     23\u001b[39m         \u001b[33m'\u001b[39m\u001b[33marea\u001b[39m\u001b[33m'\u001b[39m: BBOX,    \u001b[38;5;66;03m# N, W, S, E\u001b[39;00m\n\u001b[32m     24\u001b[39m         \u001b[33m'\u001b[39m\u001b[33mformat\u001b[39m\u001b[33m'\u001b[39m: \u001b[33m'\u001b[39m\u001b[33mnetcdf\u001b[39m\u001b[33m'\u001b[39m,\n\u001b[32m     25\u001b[39m     },\n\u001b[32m     26\u001b[39m     \u001b[33m'\u001b[39m\u001b[33mera5land_vm_2024_2025.nc\u001b[39m\u001b[33m'\u001b[39m\n\u001b[32m     27\u001b[39m )\n",
      "\u001b[36mFile \u001b[39m\u001b[32mc:\\Users\\Nainh\\miniconda3\\envs\\licitacion\\Lib\\site-packages\\ecmwf\\datastores\\legacy_client.py:167\u001b[39m, in \u001b[36mLegacyClient.retrieve\u001b[39m\u001b[34m(self, name, request, target)\u001b[39m\n\u001b[32m    165\u001b[39m submitted: datastores.Remote | datastores.Results\n\u001b[32m    166\u001b[39m \u001b[38;5;28;01mif\u001b[39;00m \u001b[38;5;28mself\u001b[39m.wait_until_complete:\n\u001b[32m--> \u001b[39m\u001b[32m167\u001b[39m     submitted = \u001b[38;5;28mself\u001b[39m.client.submit_and_wait_on_results(\n\u001b[32m    168\u001b[39m         collection_id=name,\n\u001b[32m    169\u001b[39m         request=request,\n\u001b[32m    170\u001b[39m     )\n\u001b[32m    171\u001b[39m \u001b[38;5;28;01melse\u001b[39;00m:\n\u001b[32m    172\u001b[39m     submitted = \u001b[38;5;28mself\u001b[39m.client.submit(\n\u001b[32m    173\u001b[39m         collection_id=name,\n\u001b[32m    174\u001b[39m         request=request,\n\u001b[32m    175\u001b[39m     )\n",
      "\u001b[36mFile \u001b[39m\u001b[32mc:\\Users\\Nainh\\miniconda3\\envs\\licitacion\\Lib\\site-packages\\ecmwf\\datastores\\client.py:397\u001b[39m, in \u001b[36mClient.submit_and_wait_on_results\u001b[39m\u001b[34m(self, collection_id, request)\u001b[39m\n\u001b[32m    381\u001b[39m \u001b[38;5;28;01mdef\u001b[39;00m\u001b[38;5;250m \u001b[39m\u001b[34msubmit_and_wait_on_results\u001b[39m(\n\u001b[32m    382\u001b[39m     \u001b[38;5;28mself\u001b[39m, collection_id: \u001b[38;5;28mstr\u001b[39m, request: \u001b[38;5;28mdict\u001b[39m[\u001b[38;5;28mstr\u001b[39m, Any]\n\u001b[32m    383\u001b[39m ) -> datastores.Results:\n\u001b[32m    384\u001b[39m \u001b[38;5;250m    \u001b[39m\u001b[33;03m\"\"\"Submit a request and wait for the results to be ready.\u001b[39;00m\n\u001b[32m    385\u001b[39m \n\u001b[32m    386\u001b[39m \u001b[33;03m    Parameters\u001b[39;00m\n\u001b[32m   (...)\u001b[39m\u001b[32m    395\u001b[39m \u001b[33;03m    datastores.Results\u001b[39;00m\n\u001b[32m    396\u001b[39m \u001b[33;03m    \"\"\"\u001b[39;00m\n\u001b[32m--> \u001b[39m\u001b[32m397\u001b[39m     \u001b[38;5;28;01mreturn\u001b[39;00m \u001b[38;5;28mself\u001b[39m._retrieve_api.submit(collection_id, request).get_results()\n",
      "\u001b[36mFile \u001b[39m\u001b[32mc:\\Users\\Nainh\\miniconda3\\envs\\licitacion\\Lib\\site-packages\\ecmwf\\datastores\\processing.py:544\u001b[39m, in \u001b[36mRemote.get_results\u001b[39m\u001b[34m(self)\u001b[39m\n\u001b[32m    537\u001b[39m \u001b[38;5;28;01mdef\u001b[39;00m\u001b[38;5;250m \u001b[39m\u001b[34mget_results\u001b[39m(\u001b[38;5;28mself\u001b[39m) -> Results:\n\u001b[32m    538\u001b[39m \u001b[38;5;250m    \u001b[39m\u001b[33;03m\"\"\"Retrieve results.\u001b[39;00m\n\u001b[32m    539\u001b[39m \n\u001b[32m    540\u001b[39m \u001b[33;03m    Returns\u001b[39;00m\n\u001b[32m    541\u001b[39m \u001b[33;03m    -------\u001b[39;00m\n\u001b[32m    542\u001b[39m \u001b[33;03m    datastores.Results\u001b[39;00m\n\u001b[32m    543\u001b[39m \u001b[33;03m    \"\"\"\u001b[39;00m\n\u001b[32m--> \u001b[39m\u001b[32m544\u001b[39m     \u001b[38;5;28;01mreturn\u001b[39;00m \u001b[38;5;28mself\u001b[39m._make_results(wait=\u001b[38;5;28;01mTrue\u001b[39;00m)\n",
      "\u001b[36mFile \u001b[39m\u001b[32mc:\\Users\\Nainh\\miniconda3\\envs\\licitacion\\Lib\\site-packages\\ecmwf\\datastores\\processing.py:519\u001b[39m, in \u001b[36mRemote._make_results\u001b[39m\u001b[34m(self, wait)\u001b[39m\n\u001b[32m    517\u001b[39m \u001b[38;5;28;01mdef\u001b[39;00m\u001b[38;5;250m \u001b[39m\u001b[34m_make_results\u001b[39m(\u001b[38;5;28mself\u001b[39m, wait: \u001b[38;5;28mbool\u001b[39m) -> Results:\n\u001b[32m    518\u001b[39m     \u001b[38;5;28;01mif\u001b[39;00m wait:\n\u001b[32m--> \u001b[39m\u001b[32m519\u001b[39m         \u001b[38;5;28mself\u001b[39m._wait_on_results()\n\u001b[32m    520\u001b[39m     response = \u001b[38;5;28mself\u001b[39m._get_api_response(\u001b[33m\"\u001b[39m\u001b[33mget\u001b[39m\u001b[33m\"\u001b[39m)\n\u001b[32m    521\u001b[39m     \u001b[38;5;28;01mtry\u001b[39;00m:\n",
      "\u001b[36mFile \u001b[39m\u001b[32mc:\\Users\\Nainh\\miniconda3\\envs\\licitacion\\Lib\\site-packages\\ecmwf\\datastores\\processing.py:499\u001b[39m, in \u001b[36mRemote._wait_on_results\u001b[39m\u001b[34m(self)\u001b[39m\n\u001b[32m    497\u001b[39m \u001b[38;5;28;01mwhile\u001b[39;00m \u001b[38;5;129;01mnot\u001b[39;00m \u001b[38;5;28mself\u001b[39m.results_ready:\n\u001b[32m    498\u001b[39m     \u001b[38;5;28mself\u001b[39m.debug(\u001b[33mf\u001b[39m\u001b[33m\"\u001b[39m\u001b[33mresults not ready, waiting for \u001b[39m\u001b[38;5;132;01m{\u001b[39;00msleep\u001b[38;5;132;01m}\u001b[39;00m\u001b[33m seconds\u001b[39m\u001b[33m\"\u001b[39m)\n\u001b[32m--> \u001b[39m\u001b[32m499\u001b[39m     time.sleep(sleep)\n\u001b[32m    500\u001b[39m     sleep = \u001b[38;5;28mmin\u001b[39m(sleep * \u001b[32m1.5\u001b[39m, \u001b[38;5;28mself\u001b[39m.sleep_max)\n",
      "\u001b[31mKeyboardInterrupt\u001b[39m: "
     ]
    }
   ],
   "source": [
    "import cdsapi\n",
    "\n",
    "\n",
    "\n",
    "TMP_DIR   = \"Clima\\\\tmp_test20d\"\n",
    "CDS_URL   = 'https://cds.climate.copernicus.eu/api'\n",
    "CDS_KEY   = 'd9af180c-f7f8-4a2e-8029-09018fb8c920'\n",
    "c = cdsapi.Client(url=CDS_URL, key=CDS_KEY)\n",
    "# bbox = [N, W, S, E] en grados; ajusta a tu zona\n",
    "BBOX = [-31.9, -63.5, -32.6, -63.0]  # aprox VM y alrededores\n",
    "\n",
    "c.retrieve(\n",
    "    'reanalysis-era5-land',\n",
    "    {\n",
    "        'variable': [\n",
    "            '2m_temperature','2m_dewpoint_temperature',\n",
    "            'total_precipitation','10m_u_component_of_wind','10m_v_component_of_wind'\n",
    "        ],\n",
    "        'year': ['2025'],     # o un rango\n",
    "        'month': ['01'],\n",
    "        'day': [f'{d:02d}' for d in range(1,32)],\n",
    "        'time': [f'{h:02d}:00' for h in range(24)],  # horario\n",
    "        'area': BBOX,    # N, W, S, E\n",
    "        'format': 'netcdf',\n",
    "    },\n",
    "    'era5land_vm_2024_2025.nc'\n",
    ")\n"
   ]
  },
  {
   "cell_type": "code",
   "execution_count": 6,
   "id": "1e987b1c",
   "metadata": {},
   "outputs": [
    {
     "name": "stderr",
     "output_type": "stream",
     "text": [
      "2025-09-25 13:25:11,047 INFO [2025-09-03T00:00:00] To improve our C3S service, we need to hear from you! Please complete this very short [survey](https://confluence.ecmwf.int/x/E7uBEQ/). Thank you.\n",
      "2025-09-25 13:25:11,047 INFO [2024-09-26T00:00:00] Watch our [Forum](https://forum.ecmwf.int/) for Announcements, news and other discussed topics.\n",
      "2025-09-25 13:25:11,243 INFO Request ID is 99524e1e-a4bf-4609-91e6-ebd68e672fb9\n"
     ]
    },
    {
     "name": "stdout",
     "output_type": "stream",
     "text": [
      "01 2025 ['2m_temperature', '2m_dewpoint_temperature', 'total_precipitation']\n"
     ]
    },
    {
     "name": "stderr",
     "output_type": "stream",
     "text": [
      "2025-09-25 13:25:11,312 INFO status has been updated to accepted\n",
      "2025-09-25 13:37:31,541 INFO status has been updated to successful\n"
     ]
    },
    {
     "data": {
      "application/vnd.jupyter.widget-view+json": {
       "model_id": "ff740a812b194e4199e608094c15bc9a",
       "version_major": 2,
       "version_minor": 0
      },
      "text/plain": [
       "685c57b0271fe5b4993d5d8e2e59eb79.zip:   0%|          | 0.00/240k [00:00<?, ?B/s]"
      ]
     },
     "metadata": {},
     "output_type": "display_data"
    },
    {
     "name": "stderr",
     "output_type": "stream",
     "text": [
      "2025-09-25 13:37:32,583 INFO Request ID is fc44ca30-3cdf-483e-9022-01b2ae31168f\n"
     ]
    },
    {
     "name": "stdout",
     "output_type": "stream",
     "text": [
      "01 2025 ['10m_u_component_of_wind', '10m_v_component_of_wind']\n"
     ]
    },
    {
     "name": "stderr",
     "output_type": "stream",
     "text": [
      "2025-09-25 13:37:32,685 INFO status has been updated to accepted\n",
      "2025-09-25 13:37:41,258 INFO status has been updated to running\n",
      "2025-09-25 13:41:52,636 INFO status has been updated to successful\n"
     ]
    },
    {
     "data": {
      "application/vnd.jupyter.widget-view+json": {
       "model_id": "d564e16a1eb74f3f89462a3cb60485cd",
       "version_major": 2,
       "version_minor": 0
      },
      "text/plain": [
       "83187a3cffe3c6871613b2a5bb4911b4.zip:   0%|          | 0.00/233k [00:00<?, ?B/s]"
      ]
     },
     "metadata": {},
     "output_type": "display_data"
    },
    {
     "ename": "ValueError",
     "evalue": "did not find a match in any of xarray's currently installed IO backends ['netcdf4', 'h5netcdf', 'scipy']. Consider explicitly selecting one of the installed engines via the ``engine`` parameter, or installing additional IO dependencies, see:\nhttps://docs.xarray.dev/en/stable/getting-started-guide/installing.html\nhttps://docs.xarray.dev/en/stable/user-guide/io.html",
     "output_type": "error",
     "traceback": [
      "\u001b[31m---------------------------------------------------------------------------\u001b[39m",
      "\u001b[31mValueError\u001b[39m                                Traceback (most recent call last)",
      "\u001b[36mCell\u001b[39m\u001b[36m \u001b[39m\u001b[32mIn[6]\u001b[39m\u001b[32m, line 68\u001b[39m\n\u001b[32m     65\u001b[39m     ds2 = xr.open_dataset(f2)\n\u001b[32m     66\u001b[39m     \u001b[38;5;28;01mreturn\u001b[39;00m xr.merge([ds1, ds2], compat=\u001b[33m'\u001b[39m\u001b[33moverride\u001b[39m\u001b[33m'\u001b[39m)\n\u001b[32m---> \u001b[39m\u001b[32m68\u001b[39m datasets = [open_pair(y, m) \u001b[38;5;28;01mfor\u001b[39;00m y \u001b[38;5;129;01min\u001b[39;00m YEARS \u001b[38;5;28;01mfor\u001b[39;00m m \u001b[38;5;129;01min\u001b[39;00m MONTHS \u001b[38;5;28;01mif\u001b[39;00m \n\u001b[32m     69\u001b[39m             os.path.exists(os.path.join(OUTDIR, \u001b[33mf\u001b[39m\u001b[33m'\u001b[39m\u001b[33mera5land_\u001b[39m\u001b[38;5;132;01m{\u001b[39;00my\u001b[38;5;132;01m}\u001b[39;00m\u001b[33m_\u001b[39m\u001b[38;5;132;01m{\u001b[39;00mm\u001b[38;5;132;01m}\u001b[39;00m\u001b[33m_g0.nc\u001b[39m\u001b[33m'\u001b[39m)) \u001b[38;5;129;01mand\u001b[39;00m\n\u001b[32m     70\u001b[39m             os.path.exists(os.path.join(OUTDIR, \u001b[33mf\u001b[39m\u001b[33m'\u001b[39m\u001b[33mera5land_\u001b[39m\u001b[38;5;132;01m{\u001b[39;00my\u001b[38;5;132;01m}\u001b[39;00m\u001b[33m_\u001b[39m\u001b[38;5;132;01m{\u001b[39;00mm\u001b[38;5;132;01m}\u001b[39;00m\u001b[33m_g1.nc\u001b[39m\u001b[33m'\u001b[39m))]\n\u001b[32m     72\u001b[39m ds_hourly = xr.concat(datasets, dim=\u001b[33m'\u001b[39m\u001b[33mtime\u001b[39m\u001b[33m'\u001b[39m).sortby(\u001b[33m'\u001b[39m\u001b[33mtime\u001b[39m\u001b[33m'\u001b[39m)\n\u001b[32m     74\u001b[39m \u001b[38;5;66;03m# === 3) CONVERSIÓN DE UNIDADES Y DIARIO ===\u001b[39;00m\n",
      "\u001b[36mCell\u001b[39m\u001b[36m \u001b[39m\u001b[32mIn[6]\u001b[39m\u001b[32m, line 64\u001b[39m, in \u001b[36mopen_pair\u001b[39m\u001b[34m(year, month)\u001b[39m\n\u001b[32m     62\u001b[39m f1 = os.path.join(OUTDIR, \u001b[33mf\u001b[39m\u001b[33m'\u001b[39m\u001b[33mera5land_\u001b[39m\u001b[38;5;132;01m{\u001b[39;00myear\u001b[38;5;132;01m}\u001b[39;00m\u001b[33m_\u001b[39m\u001b[38;5;132;01m{\u001b[39;00mmonth\u001b[38;5;132;01m}\u001b[39;00m\u001b[33m_g0.nc\u001b[39m\u001b[33m'\u001b[39m)\n\u001b[32m     63\u001b[39m f2 = os.path.join(OUTDIR, \u001b[33mf\u001b[39m\u001b[33m'\u001b[39m\u001b[33mera5land_\u001b[39m\u001b[38;5;132;01m{\u001b[39;00myear\u001b[38;5;132;01m}\u001b[39;00m\u001b[33m_\u001b[39m\u001b[38;5;132;01m{\u001b[39;00mmonth\u001b[38;5;132;01m}\u001b[39;00m\u001b[33m_g1.nc\u001b[39m\u001b[33m'\u001b[39m)\n\u001b[32m---> \u001b[39m\u001b[32m64\u001b[39m ds1 = xr.open_dataset(f1)\n\u001b[32m     65\u001b[39m ds2 = xr.open_dataset(f2)\n\u001b[32m     66\u001b[39m \u001b[38;5;28;01mreturn\u001b[39;00m xr.merge([ds1, ds2], compat=\u001b[33m'\u001b[39m\u001b[33moverride\u001b[39m\u001b[33m'\u001b[39m)\n",
      "\u001b[36mFile \u001b[39m\u001b[32mc:\\Users\\Nainh\\miniconda3\\envs\\licitacion\\Lib\\site-packages\\xarray\\backends\\api.py:668\u001b[39m, in \u001b[36mopen_dataset\u001b[39m\u001b[34m(filename_or_obj, engine, chunks, cache, decode_cf, mask_and_scale, decode_times, decode_timedelta, use_cftime, concat_characters, decode_coords, drop_variables, inline_array, chunked_array_type, from_array_kwargs, backend_kwargs, **kwargs)\u001b[39m\n\u001b[32m    665\u001b[39m     kwargs.update(backend_kwargs)\n\u001b[32m    667\u001b[39m \u001b[38;5;28;01mif\u001b[39;00m engine \u001b[38;5;129;01mis\u001b[39;00m \u001b[38;5;28;01mNone\u001b[39;00m:\n\u001b[32m--> \u001b[39m\u001b[32m668\u001b[39m     engine = plugins.guess_engine(filename_or_obj)\n\u001b[32m    670\u001b[39m \u001b[38;5;28;01mif\u001b[39;00m from_array_kwargs \u001b[38;5;129;01mis\u001b[39;00m \u001b[38;5;28;01mNone\u001b[39;00m:\n\u001b[32m    671\u001b[39m     from_array_kwargs = {}\n",
      "\u001b[36mFile \u001b[39m\u001b[32mc:\\Users\\Nainh\\miniconda3\\envs\\licitacion\\Lib\\site-packages\\xarray\\backends\\plugins.py:194\u001b[39m, in \u001b[36mguess_engine\u001b[39m\u001b[34m(store_spec)\u001b[39m\n\u001b[32m    186\u001b[39m \u001b[38;5;28;01melse\u001b[39;00m:\n\u001b[32m    187\u001b[39m     error_msg = (\n\u001b[32m    188\u001b[39m         \u001b[33m\"\u001b[39m\u001b[33mfound the following matches with the input file in xarray\u001b[39m\u001b[33m'\u001b[39m\u001b[33ms IO \u001b[39m\u001b[33m\"\u001b[39m\n\u001b[32m    189\u001b[39m         \u001b[33mf\u001b[39m\u001b[33m\"\u001b[39m\u001b[33mbackends: \u001b[39m\u001b[38;5;132;01m{\u001b[39;00mcompatible_engines\u001b[38;5;132;01m}\u001b[39;00m\u001b[33m. But their dependencies may not be installed, see:\u001b[39m\u001b[38;5;130;01m\\n\u001b[39;00m\u001b[33m\"\u001b[39m\n\u001b[32m    190\u001b[39m         \u001b[33m\"\u001b[39m\u001b[33mhttps://docs.xarray.dev/en/stable/user-guide/io.html \u001b[39m\u001b[38;5;130;01m\\n\u001b[39;00m\u001b[33m\"\u001b[39m\n\u001b[32m    191\u001b[39m         \u001b[33m\"\u001b[39m\u001b[33mhttps://docs.xarray.dev/en/stable/getting-started-guide/installing.html\u001b[39m\u001b[33m\"\u001b[39m\n\u001b[32m    192\u001b[39m     )\n\u001b[32m--> \u001b[39m\u001b[32m194\u001b[39m \u001b[38;5;28;01mraise\u001b[39;00m \u001b[38;5;167;01mValueError\u001b[39;00m(error_msg)\n",
      "\u001b[31mValueError\u001b[39m: did not find a match in any of xarray's currently installed IO backends ['netcdf4', 'h5netcdf', 'scipy']. Consider explicitly selecting one of the installed engines via the ``engine`` parameter, or installing additional IO dependencies, see:\nhttps://docs.xarray.dev/en/stable/getting-started-guide/installing.html\nhttps://docs.xarray.dev/en/stable/user-guide/io.html"
     ]
    }
   ],
   "source": [
    "import os, cdsapi, calendar, time\n",
    "import xarray as xr\n",
    "import pandas as pd\n",
    "\n",
    "CDS_URL   = 'https://cds.climate.copernicus.eu/api'\n",
    "CDS_KEY   = 'd9af180c-f7f8-4a2e-8029-09018fb8c920'\n",
    "c = cdsapi.Client(url=CDS_URL, key=CDS_KEY)\n",
    "\n",
    "BBOX = [-31.9, -63.5, -32.6, -63.0]  # [N, W, S, E] ajusta a tu zona\n",
    "\n",
    "# Divide variables en 2 grupos para bajar el costo por request\n",
    "VAR_GROUPS = [\n",
    "    ['2m_temperature','2m_dewpoint_temperature','total_precipitation'],\n",
    "    ['10m_u_component_of_wind','10m_v_component_of_wind'],\n",
    "]\n",
    "\n",
    "YEARS  = ['2025']                # o varias ['2024','2025',...]\n",
    "MONTHS = [f'{m:02d}' for m in range(1, 2)]  # o solo los meses que necesites\n",
    "\n",
    "OUTDIR = 'downloads_era5land_0p1'\n",
    "os.makedirs(OUTDIR, exist_ok=True)\n",
    "\n",
    "def retrieve_month(year, month, variables, bbox=BBOX, outdir=OUTDIR, tag='grp'):\n",
    "    target = os.path.join(outdir, f'era5land_{year}_{month}_{tag}.nc')\n",
    "    if os.path.exists(target):\n",
    "        return target\n",
    "    # días del mes (evita pedir días inexistentes como 31/02)\n",
    "    ndays = calendar.monthrange(int(year), int(month))[1]\n",
    "    days = [f'{d:02d}' for d in range(1, ndays+1)]\n",
    "    req = {\n",
    "        'variable': variables,\n",
    "        'year': year,\n",
    "        'month': month,\n",
    "        'day': days,\n",
    "        'time': [f'{h:02d}:00' for h in range(24)],\n",
    "        'area': bbox,           # [N, W, S, E]\n",
    "        'format': 'netcdf',\n",
    "    }\n",
    "    # pequeño backoff por si la cola está cargada\n",
    "    for attempt in range(3):\n",
    "        try:\n",
    "            c.retrieve('reanalysis-era5-land', req, target)\n",
    "            break\n",
    "        except Exception as e:\n",
    "            if attempt == 2:\n",
    "                raise\n",
    "            time.sleep(15*(attempt+1))\n",
    "    return target\n",
    "\n",
    "# === 1) DESCARGA EN LOTES (por mes y grupo de variables) ===\n",
    "files = []\n",
    "for y in YEARS:\n",
    "    for m in MONTHS:\n",
    "        for gi, group in enumerate(VAR_GROUPS):\n",
    "            print(m,y,group)\n",
    "            f = retrieve_month(y, m, group, tag=f'g{gi}')\n",
    "            files.append(f)\n",
    "\n",
    "# === 2) ABRE Y COMBINA (concatena a lo largo del tiempo y une grupos por coords) ===\n",
    "# Si haces 2 grupos por mes, puedes primero unir por mes y luego concatenar meses:\n",
    "def open_pair(year, month):\n",
    "    f1 = os.path.join(OUTDIR, f'era5land_{year}_{month}_g0.nc')\n",
    "    f2 = os.path.join(OUTDIR, f'era5land_{year}_{month}_g1.nc')\n",
    "    ds1 = xr.open_dataset(f1)\n",
    "    ds2 = xr.open_dataset(f2)\n",
    "    return xr.merge([ds1, ds2], compat='override')\n",
    "\n",
    "datasets = [open_pair(y, m) for y in YEARS for m in MONTHS if \n",
    "            os.path.exists(os.path.join(OUTDIR, f'era5land_{y}_{m}_g0.nc')) and\n",
    "            os.path.exists(os.path.join(OUTDIR, f'era5land_{y}_{m}_g1.nc'))]\n",
    "\n",
    "ds_hourly = xr.concat(datasets, dim='time').sortby('time')\n",
    "\n",
    "# === 3) CONVERSIÓN DE UNIDADES Y DIARIO ===\n",
    "ds_hourly = ds_hourly.rename({\n",
    "    '2m_temperature':'t2m', '2m_dewpoint_temperature':'d2m',\n",
    "    'total_precipitation':'tp', '10m_u_component_of_wind':'u10',\n",
    "    '10m_v_component_of_wind':'v10'\n",
    "})\n",
    "ds_hourly['t2m'] = ds_hourly['t2m'] - 273.15\n",
    "ds_hourly['d2m'] = ds_hourly['d2m'] - 273.15\n",
    "ds_hourly['ws10'] = (ds_hourly['u10']**2 + ds_hourly['v10']**2)**0.5\n",
    "\n",
    "daily = xr.Dataset({\n",
    "    't2m':  ds_hourly['t2m'].resample(time='1D').mean(),\n",
    "    'd2m':  ds_hourly['d2m'].resample(time='1D').mean(),\n",
    "    'ws10': ds_hourly['ws10'].resample(time='1D').mean(),\n",
    "    'tp':   ds_hourly['tp'].resample(time='1D').sum()\n",
    "})\n",
    "\n",
    "df_grid = daily.to_dataframe().reset_index().dropna()\n",
    "df_grid = df_grid.rename(columns={'time':'date', 'latitude':'latitude', 'longitude':'longitude'})\n",
    "print(df_grid.head())\n"
   ]
  },
  {
   "cell_type": "code",
   "execution_count": null,
   "id": "3d4f4e71",
   "metadata": {},
   "outputs": [],
   "source": []
  }
 ],
 "metadata": {
  "kernelspec": {
   "display_name": "licitacion",
   "language": "python",
   "name": "python3"
  },
  "language_info": {
   "codemirror_mode": {
    "name": "ipython",
    "version": 3
   },
   "file_extension": ".py",
   "mimetype": "text/x-python",
   "name": "python",
   "nbconvert_exporter": "python",
   "pygments_lexer": "ipython3",
   "version": "3.13.2"
  }
 },
 "nbformat": 4,
 "nbformat_minor": 5
}
